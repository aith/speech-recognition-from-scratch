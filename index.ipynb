{
  "nbformat": 4,
  "nbformat_minor": 0,
  "metadata": {
    "kernelspec": {
      "name": "pycharm-5af6fa8",
      "language": "python",
      "display_name": "PyCharm (001_game_of_life)"
    },
    "language_info": {
      "codemirror_mode": {
        "name": "ipython",
        "version": 2
      },
      "file_extension": ".py",
      "mimetype": "text/x-python",
      "name": "python",
      "nbconvert_exporter": "python",
      "pygments_lexer": "ipython2",
      "version": "2.7.6"
    },
    "colab": {
      "name": "index.ipynb",
      "provenance": [],
      "toc_visible": true
    }
  },
  "cells": [
    {
      "cell_type": "markdown",
      "metadata": {
        "collapsed": true,
        "pycharm": {
          "name": "#%% md\n"
        },
        "id": "eMIen1MlqYMi"
      },
      "source": [
        "In this notebook, I'll provide an wide overview on Automatic Speech Architecture, its standard pipelines, and how to train a model for it!\n",
        "\n",
        "### What is Automatic Speech Recognition?\n",
        "Automatic Speech Recognition (ASR) is the translation of spoken speech to text by a computer.\n",
        "\n",
        "It has many uses:\n",
        "+ closed captioning\n",
        "+ mobile phone voice assistants\n",
        "+ interface for handicapped individuals\n",
        "+ preserve endangered languages\n",
        "\n",
        "However, ASR is very difficult to solve due to:\n",
        "+ Environment (Is there noise? Other speakers?)\n",
        "+ Style of speech (Is it casual, formal, poetic, etc?)\n",
        "+ Style of speaker (Talks fast? Accents? Gender bias?)\n",
        "\n",
        "https://www.youtube.com/watch?v=q67z7PTGRi8\n",
        "\n",
        "Modern ASR models work quite well in ideal, noiseless conditions. However, in noisy conditions they are far from perfect. Below, we can see the typical accuracy for state-of-the-art ASR models in 2020!\n",
        "\n",
        "(Note: To calculate the accuracy of ASR models, we use a 'Word Error Rate.' This determines which percentage of spoken words were incorrectly translated to text by the ASR model. )\n",
        "\n",
        "![word error rate](https://drive.google.com/uc?export=view&id=1iUz9koIqQErBVB0a4db0gSZVdfsfwh9L)\n"
      ]
    },
    {
      "cell_type": "markdown",
      "metadata": {
        "collapsed": false,
        "pycharm": {
          "name": "#%% md\n"
        },
        "id": "eUVn2wDxqYMj"
      },
      "source": [
        "\n",
        "Architecture:\n",
        "\n",
        "![timeline](https://drive.google.com/uc?export=view&id=1n2ID2ML5x9TFSBJhfdvj5AGI4u-9Mp4m)\n",
        "\n",
        "\n",
        "From the 1980s to the 2010s, ASR was predominately performed by Hidden Markov Model (HMM) architecture. HMMs are probabilistic models for linear sequence classification problems. Given text's linear nature, HMMs seem like a natural fit for ASR.\n",
        "However, using HMMs for ASR come with 3 downsides:\n",
        "+ HMMs are built on the Markov Assumption, which assumes that the probability of the next state only depends on the current state, and not any states prior. This doesn't make sense for language processing, which is highly contextual (see Coarticulation)\n",
        "+ HMMs' state transitions probabilities are 'baked in' and thus inflexible to changes in language\n",
        "+ Classic HMM ASR pipelines require hand-tuned probability distributions for accoustic models and language models from linguistic experts\n",
        "+ HMM-based ASR architecture is very complex, requiring 3 models as input. The figure below demonstrates an HMM-centric ASR architecture\n",
        "\n",
        "![an HMM-based architecture](https://drive.google.com/uc?export=view&id=1loF8wbD-6DRO45Ly7lKnVVIcCn83H-B9)\n",
        "\n",
        "Nowadays Recurrent Neural Networks (RNNs) or RNN-HMM hybrids are favored for ASR because they solve these problems. However, RNN's come at the cost of requiring a vast amount of training data.\n",
        "\n",
        "![an RNN-only architecture](https://drive.google.com/uc?export=view&id=1_9McwMlHIqlPuJGYOkPwB-8h-t13P4pI)\n",
        "(an RNN-only model that has only 4 steps)\n",
        "\n",
        "https://stats.stackexchange.com/questions/282987/hidden-markov-model-vs-recurrent-neural-network\n",
        "Jurafsky textbook\n",
        "\n",
        "For the our ASR model, we'll be using an 'Listen, Attend, and Spell' (LAS) RNN. The LAS was proposed by in 2016 for ASR architecture in order to simplify Hybrid architecture (such as DNN-HMMs or CTC-HMMs) and avoid the aforementioned independence assumptions. Since then it has been the forefront of ASR architecture.\n",
        "\n",
        "https://storage.googleapis.com/pub-tools-public-publication-data/pdf/44926.pdf\n",
        "\n",
        "The objective of LAS is to transform an arbitrary-length input sequence to an arbitrary-length output sequence. LAS is an encoder-decoder model- a class of RNN's that is well-suited for problems where the length of the inputs greatly differs from the length of the outputs (like ASR).\n",
        "\n",
        "Encoder-Decoder models are composed of 3 parts:\n",
        "+ an Encoder\n",
        "+ a Context Vector\n",
        "+ a Decoder\n",
        "\n",
        "The Encoder compresses and summarizes input data into a Context Vector, which is later transformed by the Decoder. The Context Vector must be defined with a fixed-length (usually 256, 512, or 1024).\n",
        "\n",
        "Accoustic Information as Input for RNN:\n",
        "A classic HMM-based ASR model would require us to input 3 probabilistic models (accoustic, pronunciation, and language), whereas an RNN only requires 1 (accoustic). The accoustic model captures important characteristics about how we perceive speech (see MFCC). We'll extract this data from the LibriSpeech ASR dataset.\n",
        "\n",
        "https://www.openslr.org/12\n",
        "\n",
        "We need to first extract features from the audio files- we'll be putting these features in a vector and feeding them into the RNN.\n",
        "In order to extract the features from a given file, we need to perform the following steps:\n",
        "```\n",
        "1) Convert the FLAC file into a Waveform (giving us frequency data over the time domain)\n",
        "2) Split the Waveform into Windows using a Windowing Function (like Hamming)\n",
        "3) For each Window:\n",
        "    a) Compute its Fourier Transform\n",
        "    b) Compute its Mel Spectrogram (also known as Mel Filter Bank)\n",
        "    c) Compute the Log of each value in the Mel Spectrogram\n",
        "    d) Append the result of 3c to the Features Vector\n",
        "4) Return Features Vector\n",
        "```\n",
        "\n",
        "But before we do any computations, let's define some configuration constants:"
      ]
    },
    {
      "cell_type": "code",
      "metadata": {
        "pycharm": {
          "name": "#%%\n"
        },
        "id": "AXrfGRTpqYMl"
      },
      "source": [
        "sample_rate = 16000  # The Sample Rate of the LibriSpeech Dataset\n",
        "window_size_frames = int(sample_rate * 0.025)  # The standard window size for ASR models is 25ms\n",
        "window_step_frames = int(sample_rate * 0.010) # The standard window step for ASR models is 10ms\n",
        "n_filters = 40"
      ],
      "execution_count": 1,
      "outputs": []
    },
    {
      "cell_type": "markdown",
      "metadata": {
        "id": "WDeN6xz5wvDY"
      },
      "source": [
        "And of course, download the dataset(s):"
      ]
    },
    {
      "cell_type": "code",
      "metadata": {
        "id": "M5xKocQIsvmb",
        "colab": {
          "base_uri": "https://localhost:8080/"
        },
        "outputId": "0f4380c1-0b4e-44f2-8dd1-faf82c173eff"
      },
      "source": [
        "DATASET_DIR = './data/'\n",
        "\n",
        "DATASETS = [\n",
        "  \"dev-clean\"\n",
        "  # \"train-clean-100\"\n",
        "  # \"train-clean-360\"  # this exceeds Colab's Disk limit\n",
        "  # \"train-clean-500\"  # this exceeds Colab's Disk limit\n",
        "]\n",
        "\n",
        "def download_datasets(datasets): \n",
        "  for dataset in datasets:\n",
        "    dest = DATASET_DIR + dataset + '.tar.gz'\n",
        "    !mkdir -p {DATASET_DIR}\n",
        "    !wget -O {dest} https://www.openslr.org/resources/12/{dataset}.tar.gz\n",
        "\n",
        "def extract_datasets(datasets):\n",
        "  for dataset in datasets:\n",
        "    src = DATASET_DIR + dataset + \".tar.gz\"\n",
        "    dest = DATASET_DIR + dataset + '/'\n",
        "    !mkdir -p {DATASET_DIR + dataset}\n",
        "    !tar -xf {src} -C {dest}\n",
        "    print(\"Finished extraction\")\n",
        "\n",
        "download_datasets(DATASETS)\n",
        "extract_datasets(DATASETS)"
      ],
      "execution_count": 2,
      "outputs": [
        {
          "output_type": "stream",
          "text": [
            "--2021-06-07 02:13:39--  https://www.openslr.org/resources/12/dev-clean.tar.gz\n",
            "Resolving www.openslr.org (www.openslr.org)... 46.101.158.64\n",
            "Connecting to www.openslr.org (www.openslr.org)|46.101.158.64|:443... connected.\n",
            "HTTP request sent, awaiting response... 200 OK\n",
            "Length: 337926286 (322M) [application/x-gzip]\n",
            "Saving to: ‘./data/dev-clean.tar.gz’\n",
            "\n",
            "./data/dev-clean.ta 100%[===================>] 322.27M  26.4MB/s    in 13s     \n",
            "\n",
            "2021-06-07 02:13:53 (24.5 MB/s) - ‘./data/dev-clean.tar.gz’ saved [337926286/337926286]\n",
            "\n",
            "Finished extraction\n"
          ],
          "name": "stdout"
        }
      ]
    },
    {
      "cell_type": "markdown",
      "metadata": {
        "collapsed": false,
        "pycharm": {
          "name": "#%% md\n"
        },
        "id": "cShnG7OEqYMm"
      },
      "source": [
        "Now let's get the Log Mel Filter Bank energies! We'll be using the speechpy library for simplicity."
      ]
    },
    {
      "cell_type": "code",
      "metadata": {
        "id": "e390m14sHn-z"
      },
      "source": [
        "import numpy as np\n",
        "import soundfile as sf\n",
        "import tensorflow as tf\n",
        "import librosa\n",
        "from tqdm import tqdm # for pretty loading bars"
      ],
      "execution_count": 3,
      "outputs": []
    },
    {
      "cell_type": "code",
      "metadata": {
        "pycharm": {
          "name": "#%%\n"
        },
        "id": "Uq6BRWyO0jjG"
      },
      "source": [
        "\n",
        "def files_to_log_mel_spec(paths, sample_rate, window_size_frames, window_step_frames, num_mel_bins):\n",
        "  \"\"\" Returns \n",
        "  ( Tensor of Log Mel Spectrograms of the audio files in paths, \n",
        "    numpy array of the Lengths of the Spectrograms ) \n",
        "  \"\"\"\n",
        "  n_files = len(paths)\n",
        "  print(f\"Converting {n_files} files to Log Mel Spectrograms\")\n",
        "  lmspecs = [] \n",
        "  lengths = []\n",
        "  # longest = 0\n",
        "  for i, path in enumerate(paths):\n",
        "    if i % 250 == 0: print(f\"{i}/{n_files} converted to Log Mel Spectrograms\")\n",
        "    audio = tf.io.read_file(path)\n",
        "    audio, _ = librosa.load(path, sample_rate)\n",
        "    audio = tf.convert_to_tensor(audio)\n",
        "    # Get Spectrogram using Short-time Fourier Transform\n",
        "    stfts = tf.signal.stft(audio, frame_length=window_size_frames, frame_step=window_step_frames, fft_length=1024)\n",
        "    spectrograms = tf.abs(stfts)\n",
        "    # Warp the linear scale spectrograms into the Mel Scale.\n",
        "    num_spectrogram_bins = stfts.shape[-1]\n",
        "    lower_edge_hertz, upper_edge_hertz = 80.0, 7600.0\n",
        "    linear_to_mel_weight_matrix = tf.signal.linear_to_mel_weight_matrix(\n",
        "      num_mel_bins, num_spectrogram_bins, sample_rate, lower_edge_hertz,\n",
        "      upper_edge_hertz)\n",
        "    mel_spectrograms = tf.tensordot(spectrograms, linear_to_mel_weight_matrix, 1)\n",
        "    mel_spectrograms.set_shape(spectrograms.shape[:-1].concatenate(\n",
        "      linear_to_mel_weight_matrix.shape[-1:]))\n",
        "    # Compute a stabilized log to get log-magnitude mel-scale spectrograms.\n",
        "    lmspec = tf.math.log(mel_spectrograms + 1e-6)\n",
        "\n",
        "    # Normalize Log Mel Spectrogram\n",
        "    means = tf.math.reduce_mean(lmspec, 1, keepdims=True)\n",
        "    stddevs = tf.math.reduce_std(lmspec, 1, keepdims=True)\n",
        "    lmspec = (lmspec - means) / stddevs\n",
        "\n",
        "    # longest = longest if longest > len(lmspec) else len(lmspec)\n",
        "    # Pad to make consistent\n",
        "    pad_len = 4500 # Longest in dev-clean is 3263\n",
        "    paddings = tf.constant([[0, pad_len], [0, 0]])\n",
        "    lmspec = tf.pad(lmspec, paddings, \"CONSTANT\")[:pad_len, :]\n",
        "\n",
        "    lmspecs.append(lmspec)\n",
        "    lengths.append(len(lmspec))\n",
        "\n",
        "  print(f\"{n_files}/{n_files} converted to Log Mel Spectrograms\")\n",
        "\n",
        "  # print(\"Longest is \"+str(longest))\n",
        "  return lmspecs, np.array(lengths).astype(np.int32)\n"
      ],
      "execution_count": 17,
      "outputs": []
    },
    {
      "cell_type": "code",
      "metadata": {
        "id": "5pKKC96A4omz",
        "outputId": "1d56828c-0ef3-4015-a475-ec00efe5fb64",
        "colab": {
          "base_uri": "https://localhost:8080/"
        }
      },
      "source": [
        "# Example\n",
        "files_to_log_mel_spec(['./data/dev-clean/LibriSpeech/dev-clean/1272/128104/1272-128104-0000.flac'], sample_rate, window_size_frames, window_step_frames, n_filters)"
      ],
      "execution_count": 5,
      "outputs": [
        {
          "output_type": "stream",
          "text": [
            "Converting 1 files to Log Mel Spectrograms\n",
            "0/1 converted to Log Mel Spectrograms\n"
          ],
          "name": "stdout"
        },
        {
          "output_type": "execute_result",
          "data": {
            "text/plain": [
              "([<tf.Tensor: shape=(4500, 40), dtype=float32, numpy=\n",
              "  array([[ 0.20061943, -1.0287393 , -1.509152  , ..., -1.2667471 ,\n",
              "          -0.5122534 , -0.39129886],\n",
              "         [-0.4862597 , -1.1197394 , -0.5595873 , ..., -0.9269718 ,\n",
              "          -0.5736864 , -0.34323072],\n",
              "         [ 0.6221455 , -0.00927406, -0.01342059, ..., -0.83187187,\n",
              "          -0.71671116, -0.4780636 ],\n",
              "         ...,\n",
              "         [ 0.        ,  0.        ,  0.        , ...,  0.        ,\n",
              "           0.        ,  0.        ],\n",
              "         [ 0.        ,  0.        ,  0.        , ...,  0.        ,\n",
              "           0.        ,  0.        ],\n",
              "         [ 0.        ,  0.        ,  0.        , ...,  0.        ,\n",
              "           0.        ,  0.        ]], dtype=float32)>],\n",
              " array([4500], dtype=int32))"
            ]
          },
          "metadata": {
            "tags": []
          },
          "execution_count": 5
        }
      ]
    },
    {
      "cell_type": "markdown",
      "metadata": {
        "collapsed": false,
        "pycharm": {
          "name": "#%% md\n"
        },
        "id": "9ytf-ldeqYMo"
      },
      "source": [
        "Sometimes you may see MFCCs used as the ASR features instead of Mel Filter Banks. MFCCs are values that loosely represents the brain's capacity to filter out certain signals. MFCCs were popular with HMM-based models for helping model based on human-perceptible information, but newer architecture can usually use Filter Banks and get similar or better accuracy. You can read more [here](https://haythamfayek.com/2016/04/21/speech-processing-for-machine-learning.html).\n",
        "\n",
        "The diagram below shows the steps required for calculating the Filter Banks and MFCCs. As you can see, MFCCs require a few more calculations after the Filter Banks:\n",
        "\n",
        "![features pipeline](https://drive.google.com/uc?export=view&id=15T0MgXcj9wA_ZQ_i4tCLukUCH-7T2FnB)\n",
        "\n",
        "https://www.youtube.com/watch?v=QTw-6GU5Mjs&t=319s\n"
      ]
    },
    {
      "cell_type": "markdown",
      "metadata": {
        "collapsed": false,
        "pycharm": {
          "name": "#%% md\n"
        },
        "id": "3LTCfVc8qYMq"
      },
      "source": [
        "Let's also add a helper function that'll allow us to map the spectrograms to their target text! Specifically, this function will Tokenize the target text (i.e. split the text by character) and Numericize it (i.e. map each character to an integer). We'll also insert some special boundary characters to help the NN read the string:"
      ]
    },
    {
      "cell_type": "code",
      "metadata": {
        "id": "9EcJ1gzN7elI"
      },
      "source": [
        "# This tokenization code was borrowed/modified from https://github.com/30stomercury/Automatic-Speech-Recognition/blob/master/utils/tokenizer.py\n",
        "import string\n",
        "def char2id(special_tokens):\n",
        "    \"\"\"\n",
        "    Args:\n",
        "        special_tokens: special charactors, <PAD>, <SOS>, <EOS>, <SPACE>\n",
        "    Returns:\n",
        "        char2id: dict, from character to index.\n",
        "        id2char: dict, from index to character.\n",
        "    \"\"\"\n",
        "    alphas = list(string.ascii_uppercase[:26])\n",
        "    tokens = special_tokens + alphas\n",
        "    token_to_id = {}\n",
        "    id_to_token = {}\n",
        "    for i, c in enumerate(tokens):\n",
        "        token_to_id[c] = i\n",
        "        id_to_token[i] = c\n",
        "    return token_to_id, id_to_token\n",
        "\n",
        "SPECIAL_TOKENS = ['<PAD>', '<SOS>', '<EOS>', '<SPACE>']\n",
        "_char2id, _id2char = char2id(SPECIAL_TOKENS)  # Lookup dictionaries\n",
        "\n",
        "def tokenize(uppercase_sentence):\n",
        "  \"\"\" Returns a Tokenization of the given sentence and its length \"\"\"\n",
        "  tokens = [_char2id['<SOS>']]\n",
        "  tokens += [_char2id[char] if char != ' ' else _char2id['<SPACE>'] for char in list(uppercase_sentence)]\n",
        "  tokens += [_char2id['<EOS>']]\n",
        "  return tokens, len(tokens)"
      ],
      "execution_count": 6,
      "outputs": []
    },
    {
      "cell_type": "code",
      "metadata": {
        "pycharm": {
          "name": "#%%\n"
        },
        "id": "GH7eT9dVqYMq"
      },
      "source": [
        "\n",
        "def tokenize_sentences(sentences):\n",
        "  \"\"\" Iterate through a list of sentences and tokenize them.\n",
        "  Returns: ( an array of tokens, their lengths )\"\"\"\n",
        "  tokens = []\n",
        "  lengths = []\n",
        "  n_sentences = len(sentences)\n",
        "  print(\"Tokenizing \"+str(n_sentences)+\" sentences\")\n",
        "  for sentence in sentences:\n",
        "    # sentence = sentence.translate(str.maketrans('', '', string.punctuation))\n",
        "    sentence_converted, length = tokenize(sentence)\n",
        "    # Pad Tokenization\n",
        "    to_pad = 700 - length # max in dev_clean is 513\n",
        "    sentence_converted += [_char2id[\"<PAD>\"]] * to_pad\n",
        "    tokens.append(sentence_converted)\n",
        "    lengths.append(length)\n",
        "  return np.array(tokens), np.array(lengths).astype(np.int32)\n"
      ],
      "execution_count": 7,
      "outputs": []
    },
    {
      "cell_type": "code",
      "metadata": {
        "colab": {
          "base_uri": "https://localhost:8080/"
        },
        "id": "AYktTn5z_W5V",
        "outputId": "f9f4a3b0-c591-4c41-b27d-8952bedb5999"
      },
      "source": [
        "# Show examples\n",
        "print(\"Numericization dict: \"+str(_char2id))\n",
        "print(\"'TEST' tokenized is \"+str(tokenize('TEST')[0])+\" where the 1st token is <SOS> and the last token is <EOS>\") "
      ],
      "execution_count": 8,
      "outputs": [
        {
          "output_type": "stream",
          "text": [
            "Numericization dict: {'<PAD>': 0, '<SOS>': 1, '<EOS>': 2, '<SPACE>': 3, 'A': 4, 'B': 5, 'C': 6, 'D': 7, 'E': 8, 'F': 9, 'G': 10, 'H': 11, 'I': 12, 'J': 13, 'K': 14, 'L': 15, 'M': 16, 'N': 17, 'O': 18, 'P': 19, 'Q': 20, 'R': 21, 'S': 22, 'T': 23, 'U': 24, 'V': 25, 'W': 26, 'X': 27, 'Y': 28, 'Z': 29}\n",
            "'TEST' tokenized is [1, 23, 8, 22, 23, 2] where the 1st token is <SOS> and the last token is <EOS>\n"
          ],
          "name": "stdout"
        }
      ]
    },
    {
      "cell_type": "markdown",
      "metadata": {
        "collapsed": false,
        "pycharm": {
          "name": "#%% md\n"
        },
        "id": "xOsoUXH-qYMr"
      },
      "source": [
        "Now we can extract features and target text from the whole LibriSpeech dataset!"
      ]
    },
    {
      "cell_type": "code",
      "metadata": {
        "id": "JNrvP7XH5Yfv"
      },
      "source": [
        "from glob import glob\n",
        "import joblib\n",
        "import logging"
      ],
      "execution_count": 9,
      "outputs": []
    },
    {
      "cell_type": "code",
      "metadata": {
        "pycharm": {
          "name": "#%%\n"
        },
        "id": "--XbcV5HqYMs"
      },
      "source": [
        "# The following code borrowed/modified from https://github.com/30stomercury/Automatic-Speech-Recognition/blob/master/preprocess.py\n",
        "\n",
        "def get_texts_and_audio_paths(root_dataset_path):\n",
        "  \"\"\" Iterate through folders in a directory.\n",
        "  Return: Target texts, paths of correspending audio recordings \n",
        "  \"\"\"\n",
        "  folders = glob(root_dataset_path+\"/**/**\")\n",
        "  texts = []\n",
        "  audio_path = []\n",
        "  for path in folders:\n",
        "    text_path = glob(path+\"/*txt\")[0]\n",
        "    f = open(text_path)\n",
        "    for line in f.readlines():\n",
        "        line_ = line.split(\" \")\n",
        "        audio_path.append(path+\"/\"+line_[0]+\".flac\")\n",
        "        texts.append(line[len(line_[0])+1:-1].replace(\"'\",\"\"))\n",
        "  return texts, audio_path\n",
        "\n",
        "# When number of audios in a set (usually training set) > threshold, divide set into several parts to avoid memory error.\n",
        "_SAMPLE_THRESHOLD = 30000\n",
        "\n",
        "def extract_inputs(datasets, datasets_dir, feat_dir):\n",
        "  \"\"\" Iterate through LibriSpeech dataset and save features and texts to \n",
        "      binaries under feat_dir. \n",
        "  \"\"\"\n",
        "  def process_libri_feats(audio_path, cat, k):\n",
        "      \"\"\"When number of feats > threshold, divide feature\n",
        "          into several parts to avoid memory error.\n",
        "      \"\"\"\n",
        "      if len(audio_path) > _SAMPLE_THRESHOLD:\n",
        "          featlen = []\n",
        "          n = len(audio_path) // k + 1\n",
        "          logging.info(\"Process {} audios...\".format(cat))\n",
        "          for i in tqdm(range(k)):\n",
        "              feats, featlen_ = files_to_log_mel_spec(audio_path[i*n:(i+1)*n], sample_rate, window_size_frames, window_step_frames, n_filters)\n",
        "              featlen += featlen_\n",
        "              # Save the features into a file\n",
        "              joblib.dump(feats, feat_dir+\"/{}-feats-{}.pkl\".format(cat, i))\n",
        "              feats = []\n",
        "      else:\n",
        "          feats, featlen = files_to_log_mel_spec(audio_path, sample_rate, window_size_frames, window_step_frames, n_filters)\n",
        "          joblib.dump(feats, feat_dir+\"/{}-feats.pkl\".format(cat))\n",
        "      np.save(feat_dir+\"/{}-featlen.npy\".format(cat), featlen)\n",
        "\n",
        "  for dataset_name in datasets:\n",
        "    to_cat = dataset_name\n",
        "    libri_path = datasets_dir + dataset_name + '/' + 'LibriSpeech' + '/' + dataset_name\n",
        "    print(\"Extracting from \"+libri_path)\n",
        "    target_texts, audio_paths = get_texts_and_audio_paths(libri_path)\n",
        "\n",
        "    # Tokenize sentence\n",
        "    tokens, token_lengths = tokenize_sentences(target_texts)\n",
        "\n",
        "    # Save tokens and their lengths to files\n",
        "    np.save(feat_dir+\"/{}-{}s.npy\".format(to_cat,'char'), tokens)\n",
        "    np.save(feat_dir+\"/{}-{}len.npy\".format(to_cat,'char'), token_lengths)\n",
        "\n",
        "    # Extract and download features (in our case, the Log Mel Spectrograms)\n",
        "    process_libri_feats(audio_paths, to_cat, len(audio_paths)//_SAMPLE_THRESHOLD)\n",
        "  print(\"Finished extraction\")\n"
      ],
      "execution_count": 14,
      "outputs": []
    },
    {
      "cell_type": "code",
      "metadata": {
        "colab": {
          "base_uri": "https://localhost:8080/"
        },
        "id": "DtgqjcI75ju8",
        "outputId": "e864586a-a405-47a8-87c6-280390477ea1"
      },
      "source": [
        "\n",
        "FEATURES_DIR = './features'\n",
        "!mkdir -p {FEATURES_DIR}\n",
        "extract_inputs(DATASETS, DATASET_DIR, FEATURES_DIR)"
      ],
      "execution_count": 15,
      "outputs": [
        {
          "output_type": "stream",
          "text": [
            "Extracting from ./data/dev-clean/LibriSpeech/dev-clean\n",
            "Tokenizing 2703 sentences\n",
            "Converting 2703 files to Log Mel Spectrograms\n",
            "0/2703 converted to Log Mel Spectrograms\n",
            "250/2703 converted to Log Mel Spectrograms\n",
            "500/2703 converted to Log Mel Spectrograms\n",
            "750/2703 converted to Log Mel Spectrograms\n",
            "1000/2703 converted to Log Mel Spectrograms\n",
            "1250/2703 converted to Log Mel Spectrograms\n",
            "1500/2703 converted to Log Mel Spectrograms\n",
            "1750/2703 converted to Log Mel Spectrograms\n",
            "2000/2703 converted to Log Mel Spectrograms\n",
            "2250/2703 converted to Log Mel Spectrograms\n",
            "2500/2703 converted to Log Mel Spectrograms\n"
          ],
          "name": "stdout"
        }
      ]
    },
    {
      "cell_type": "code",
      "metadata": {
        "id": "YjWggoD3GcNh"
      },
      "source": [
        "\n",
        "def load_extracted_data(feature_dir, datasets):\n",
        "  \"\"\" Load the data from files \"\"\"\n",
        "  dataset = datasets[0]\n",
        "  features = joblib.load(feature_dir+\"/{}-feats.pkl\".format(dataset))\n",
        "  feature_lengths = np.load(feature_dir+\"/{}-featlen.npy\".format(dataset), allow_pickle=True)\n",
        "  tokens = np.load(feature_dir+\"/{}-chars.npy\".format(dataset), allow_pickle=True)\n",
        "  token_lengths = np.load(feature_dir+\"/{}-charlen.npy\".format(dataset), allow_pickle=True)\n",
        "  return features, feature_lengths, tokens, token_lengths\n",
        "\n",
        "# Load our saved data\n",
        "features, feature_lengths, tokens, token_lengths = load_extracted_data(FEATURES_DIR, DATASETS)"
      ],
      "execution_count": 20,
      "outputs": []
    },
    {
      "cell_type": "code",
      "metadata": {
        "id": "17I-D8UCILms",
        "outputId": "accf72f8-3200-4cc6-9c3b-5775108ff122",
        "colab": {
          "base_uri": "https://localhost:8080/"
        }
      },
      "source": [
        "def create_tensorflow_datasets(features, tokens, batch_size = 64):\n",
        "  \"\"\" Return Tensorflow Dataset objects for features, tokens \"\"\"\n",
        "  features_ds = tf.data.Dataset.from_tensor_slices(features)\n",
        "  tokens_ds = tf.data.Dataset.from_tensor_slices(tokens)\n",
        "  ds = tf.data.Dataset.zip((features_ds, tokens_ds))\n",
        "  ds = ds.map(lambda x, y: {\"source\": x, \"target\": y})\n",
        "  ds = ds.batch(batch_size)\n",
        "  ds = ds.prefetch(tf.data.experimental.AUTOTUNE)\n",
        "  return ds\n",
        "\n",
        "create_tensorflow_datasets(features, tokens)"
      ],
      "execution_count": 23,
      "outputs": [
        {
          "output_type": "execute_result",
          "data": {
            "text/plain": [
              "<PrefetchDataset shapes: {source: (None, 4500, 40), target: (None, 700)}, types: {source: tf.float32, target: tf.int64}>"
            ]
          },
          "metadata": {
            "tags": []
          },
          "execution_count": 23
        }
      ]
    },
    {
      "cell_type": "code",
      "metadata": {
        "id": "hHi0rGANZzNG"
      },
      "source": [
        "!wget -O /content/data/test.wav https://file-examples-com.github.io/uploads/2017/11/file_example_WAV_1MG.wav"
      ],
      "execution_count": null,
      "outputs": []
    },
    {
      "cell_type": "markdown",
      "metadata": {
        "collapsed": false,
        "pycharm": {
          "name": "#%% md\n"
        },
        "id": "8WxuorhlqYMu"
      },
      "source": [
        "Even though we have the spectrograms of audio recordings and their respective text translations, the Neural Network will not be able to read them in this format. We'll need to define the following variables so that both the encoder and decoder can run:"
      ]
    },
    {
      "cell_type": "code",
      "metadata": {
        "pycharm": {
          "name": "#%%\n"
        },
        "id": "alnoWfruqYMw"
      },
      "source": [
        "# add function to AudioHandler\n",
        "log_specgrams, \\\n",
        "target_text_chars, \\\n",
        "total_found_chars, \\\n",
        "num_target_text_tokens = extract_features_and_text_targets('./data_test/LibriSpeech/dev-clean/')\n",
        "# https://www.kdnuggets.com/2017/12/audio-classifier-deep-neural-networks.html"
      ],
      "execution_count": null,
      "outputs": []
    },
    {
      "cell_type": "markdown",
      "metadata": {
        "collapsed": false,
        "pycharm": {
          "name": "#%% md\n"
        },
        "id": "UPmVRqt2qYMx"
      },
      "source": [
        " and Numericize them (i.e. assign integers to each token)"
      ]
    },
    {
      "cell_type": "code",
      "metadata": {
        "pycharm": {
          "name": "#%%\n"
        },
        "id": "RLwodtBUqYMx"
      },
      "source": [
        "target_token_index = None  # A dict mapping an integer to each seen character\n",
        "encoder_input_data = None\n",
        "decoder_input_data = None  # An array of dicts mapping characters to whether 1 if seen, 0 if not seen\n",
        "decoder_target_data = None  # An array of dicts mapping characters to whether 1 if seen, 0 if not seen\n"
      ],
      "execution_count": null,
      "outputs": []
    },
    {
      "cell_type": "code",
      "metadata": {
        "pycharm": {
          "name": "#%%\n"
        },
        "id": "hJR9yKQZqYMy"
      },
      "source": [
        "\n",
        "batch_size = 64  # Batch size for training.\n",
        "epochs = 100  # Number of epochs to train for.\n",
        "latent_dim = 256  # Latent dimensionality of the encoding space.\n",
        "num_samples = 10000  # Number of samples to train on.\n",
        "data_path = \"./data/LibriSpeech/dev-clean/1272/128104/1272-128104-0000.flac\"\n",
        "\n",
        "\n"
      ],
      "execution_count": null,
      "outputs": []
    },
    {
      "cell_type": "code",
      "metadata": {
        "pycharm": {
          "name": "#%%\n"
        },
        "id": "9Lq0x61NqYMz"
      },
      "source": [
        "import keras\n",
        "\n",
        "encoder_inputs = keras.Input(shape=(None, num_encoder_tokens))\n"
      ],
      "execution_count": null,
      "outputs": []
    },
    {
      "cell_type": "markdown",
      "metadata": {
        "collapsed": false,
        "id": "FJD5RiMhqYMz"
      },
      "source": [
        "\n",
        "Next: build encoder-decoder architecture, based on https://github.com/tensorflow/nmt\n",
        "\n",
        "Next: plug into RNN, run it on Google Colab. Save it\n",
        "\n",
        "Next: let user input voice data, and run it through the model\n",
        "\n",
        "More soucres\n",
        "https://towardsdatascience.com/recognizing-speech-commands-using-recurrent-neural-networks-with-attention-c2b2ba17c837\n",
        "https://lilianweng.github.io/lil-log/2018/06/24/attention-attention.html\n",
        "https://jalammar.github.io/visualizing-neural-machine-translation-mechanics-of-seq2seq-models-with-attention/\n",
        "https://arxiv.org/pdf/1409.0473.pdf"
      ]
    },
    {
      "cell_type": "markdown",
      "metadata": {
        "collapsed": false,
        "pycharm": {
          "name": "#%% md\n"
        },
        "id": "W3mz2H6iqYMz"
      },
      "source": [
        "\n",
        "Further Optimizations:\n",
        "\n",
        "The Context Vector being fixed-length turns out to be a performance bottleneck; given a long input sentences, the the Encoder may not be able to store all of its output in the Context Vector in one timestep.\n",
        "\n",
        "To solve the bottleneck, we could use the 'attention' mechanism which involves the Decoder selecting from all hidden states provided by the Encoder. For the sake of simplicity we won't be doing this optimization.\n"
      ]
    },
    {
      "cell_type": "code",
      "metadata": {
        "id": "RDCvyHwywhif"
      },
      "source": [
        ""
      ],
      "execution_count": null,
      "outputs": []
    }
  ]
}
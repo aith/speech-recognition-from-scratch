{
  "nbformat": 4,
  "nbformat_minor": 0,
  "metadata": {
    "kernelspec": {
      "name": "pycharm-5af6fa8",
      "language": "python",
      "display_name": "PyCharm (001_game_of_life)"
    },
    "language_info": {
      "codemirror_mode": {
        "name": "ipython",
        "version": 2
      },
      "file_extension": ".py",
      "mimetype": "text/x-python",
      "name": "python",
      "nbconvert_exporter": "python",
      "pygments_lexer": "ipython2",
      "version": "2.7.6"
    },
    "colab": {
      "name": "index.ipynb",
      "provenance": []
    }
  },
  "cells": [
    {
      "cell_type": "code",
      "metadata": {
        "id": "e390m14sHn-z"
      },
      "source": [
        ""
      ],
      "execution_count": null,
      "outputs": []
    },
    {
      "cell_type": "markdown",
      "metadata": {
        "collapsed": true,
        "pycharm": {
          "name": "#%% md\n"
        },
        "id": "eMIen1MlqYMi"
      },
      "source": [
        "In this notebook, I'll provide an wide overview on Automatic Speech Architecture, its standard pipelines, and how to train a model for it!\n",
        "\n",
        "### What is Automatic Speech Recognition?\n",
        "Automatic Speech Recognition (ASR) is the translation of spoken speech to text by a computer. This typically only means turning audio into a sequence of characters (disregarding grammar).\n",
        "\n",
        "It has many uses:\n",
        "+ closed captioning\n",
        "+ mobile phone voice assistants\n",
        "+ interface for handicapped individuals\n",
        "+ preserve endangered languages\n",
        "\n",
        "However, ASR is very difficult to solve due to:\n",
        "+ Environment (Is there noise? Other speakers?)\n",
        "+ Style of speech (Is it casual, formal, poetic, etc?)\n",
        "+ Style of speaker (Talks fast? Accents? Gender bias?)\n",
        "\n",
        "Modern ASR models work quite well in ideal, noiseless conditions. However, in noisy conditions they are far from perfect. Below, we can see the typical accuracy for state-of-the-art ASR models in 2020!\n",
        "\n",
        "(Note: To calculate the accuracy of ASR models, we use a 'Word Error Rate.' This determines which percentage of spoken words were incorrectly translated to text by the ASR model. )\n",
        "\n",
        "![word error rate](https://drive.google.com/uc?export=view&id=1iUz9koIqQErBVB0a4db0gSZVdfsfwh9L)\n"
      ]
    },
    {
      "cell_type": "markdown",
      "metadata": {
        "collapsed": false,
        "pycharm": {
          "name": "#%% md\n"
        },
        "id": "eUVn2wDxqYMj"
      },
      "source": [
        "\n",
        "Architecture:\n",
        "\n",
        "![timeline](https://drive.google.com/uc?export=view&id=1n2ID2ML5x9TFSBJhfdvj5AGI4u-9Mp4m)  \n",
        "[source](https://youtu.be/q67z7PTGRi8)\n",
        "\n",
        "\n",
        "From the 1980s to the 2010s, ASR was predominately performed by Hidden Markov Model (HMM) architecture. HMMs are probabilistic models for linear sequence classification problems. Given text's linear nature, HMMs seem like a natural fit for ASR.\n",
        "However, using HMMs for ASR come with 3 downsides:\n",
        "+ HMMs are built on the Markov Assumption, which assumes that the probability of the next state only depends on the current state, and not any states prior. This doesn't make sense for language processing, which is highly contextual (see Coarticulation)\n",
        "+ HMMs' state transitions probabilities are 'baked in' and thus inflexible to changes in language\n",
        "+ Classic HMM ASR pipelines require hand-tuned probability distributions for accoustic models and language models from linguistic experts\n",
        "+ HMM-based ASR architecture is very complex, requiring 3 models as input. The figure below demonstrates an HMM-centric ASR architecture\n",
        "\n",
        "![an HMM-based architecture](https://drive.google.com/uc?export=view&id=1loF8wbD-6DRO45Ly7lKnVVIcCn83H-B9)  \n",
        "[source](https://youtu.be/q67z7PTGRi8)\n",
        "\n",
        "## Neural Networks\n",
        "These days Neural Network architecture, like Recurrent Neural Networks (RNNs) or RNN-HMM hybrids are favored for ASR because they solve these problems. In essence, Neural Networks take an arbitrary amount of data points and tries to 'fit' a predictive model to those points. The introduction of Neural Networks to ASR immediately led to WER to be improved by ~30%. However, RNN's come at the cost of requiring a vast amount of training data.\n",
        "\n",
        "![an RNN-only architecture](https://drive.google.com/uc?export=view&id=1_9McwMlHIqlPuJGYOkPwB-8h-t13P4pI)  \n",
        "(an RNN-only model that has only 4 steps)  \n",
        "[source](https://youtu.be/q67z7PTGRi8)\n",
        "\n",
        "## Encoder-Decoder\n",
        "ASR is typically performed with an Encoder-Decoder Recurrent Neural Network, which was developed as a way of solving Sequence-to-Sequence prediction problems; essentially this means taking an input sequence and returning an output sequence. These sequences can hold elements of arbitrary length- making this architecture viable (and powerful!) for problems involving inputs and outputs of different lengths. This is precisely why it's used for ASR!\n",
        "\n",
        "Encoder-Decoder models are composed of 3 parts:\n",
        "+ an Encoder (a Neural Network)\n",
        "+ a Context Vector (a vector of a 'a summary of the inputs')\n",
        "+ a Decoder (a Neural Network)\n",
        "\n",
        "The Encoder compresses and summarizes input data into a Context Vector, which is later transformed by the Decoder. The Context Vector must be defined with a fixed-length (usually 256, 512, or 1024).\n",
        "\n",
        "## Accoustic Features as Input for RNN:\n",
        "A classic HMM-based ASR model would require us to input 3 probabilistic models (Accoustic, Pronunciation, and Language). An RNN only *requires* 1 (Accoustic), but a hand-crafted Language model is still commonly used for the purposes of injecting rules and grammar to speech-to-text translations. \n",
        "\n",
        "The Accoustic Model regards how Accoustic Features (from audio) are broken up into phonemes (the building blocks of speech) and other linguistic elements.  We'll extract this data from the [LibriSpeech ASR Dataset](https://www.openslr.org/12).  \n",
        "\n",
        "The Language Model is a probabilistic model that concerns the stringing of words and other language elements together in a sensible way. In state-of-the-art architectures like those at Google, Language Models are integrated into deep learning models. In this notebook we won't be using this, and instead only building an Accoustic Model.\n",
        "\n",
        "For our model to build an Accostic Model need to first extract Accoustic Features from the audio files- we'll be putting these features in a vector and feeding them into the RNN.\n",
        "In order to extract the features from a given file, we need to perform the following steps:\n",
        "```\n",
        "1) Convert the FLAC file into a Waveform (giving us frequency data over the time domain)\n",
        "2) Split the Waveform into Windows using a Windowing Function (like Hamming)\n",
        "3) For each Window:\n",
        "    a) Compute its Fourier Transform\n",
        "    b) Compute its Mel Spectrogram (also known as Mel Filter Bank)\n",
        "    c) Compute the Log of each value in the Mel Spectrogram\n",
        "    d) Append the result of 3c to the Features Vector\n",
        "4) Return Features Vector\n",
        "```\n",
        "\n",
        "But before we do any computations, let's define some configuration constants:"
      ]
    },
    {
      "cell_type": "code",
      "metadata": {
        "id": "68ENSYoGp4e3"
      },
      "source": [
        "import numpy as np\n",
        "import librosa\n",
        "from glob import glob\n",
        "import joblib\n",
        "from tqdm import tqdm # for pretty loading bars\n",
        "import os\n",
        "import random\n",
        "import tensorflow as tf\n",
        "from tensorflow import keras\n",
        "from tensorflow.keras import layers\n",
        "import string"
      ],
      "execution_count": 1,
      "outputs": []
    },
    {
      "cell_type": "code",
      "metadata": {
        "pycharm": {
          "name": "#%%\n"
        },
        "id": "AXrfGRTpqYMl"
      },
      "source": [
        "sample_rate = 16000  # The Sample Rate of the LibriSpeech Dataset\n",
        "window_size_frames = int(sample_rate * 0.025)  # The standard window size for ASR models is 25ms\n",
        "window_step_frames = int(sample_rate * 0.010) # The standard window step for ASR models is 10ms\n",
        "n_filters = 40\n",
        "\n",
        "DATASETS = [\n",
        "  \"dev-clean\"\n",
        "  # \"train-clean-100\"\n",
        "  # \"train-clean-360\"  # this exceeds Colab's Disk limit\n",
        "  # \"train-clean-500\"  # this exceeds Colab's Disk limit\n",
        "]\n",
        "DATASET_DIR = './data/'\n",
        "FEATURES_DIR = './features'\n",
        "\n",
        "# SPECIAL_TOKENS = ['<PAD>', '<SOS>', '<EOS>', '<SPACE>']  # Tags for text formatting\n",
        "SPECIAL_TOKENS = [\"#\", \"<\", \">\", \"_\"]  # Tags for text formatting\n",
        "VOCAB =  SPECIAL_TOKENS + list(string.ascii_uppercase[:26])\n",
        "\n",
        "MAX_TEXT_LEN = 700 # >the length of the largest sentence. Used for padding"
      ],
      "execution_count": 2,
      "outputs": []
    },
    {
      "cell_type": "markdown",
      "metadata": {
        "id": "WDeN6xz5wvDY"
      },
      "source": [
        "And of course, download the dataset(s):"
      ]
    },
    {
      "cell_type": "code",
      "metadata": {
        "id": "M5xKocQIsvmb",
        "colab": {
          "base_uri": "https://localhost:8080/"
        },
        "outputId": "a7dfae28-df47-40a4-9588-f2397dcb3270"
      },
      "source": [
        "\n",
        "\n",
        "def download_datasets(datasets): \n",
        "  for dataset in datasets:\n",
        "    dest = DATASET_DIR + dataset + '.tar.gz'\n",
        "    !mkdir -p {DATASET_DIR}\n",
        "    !wget -O {dest} https://www.openslr.org/resources/12/{dataset}.tar.gz\n",
        "\n",
        "def extract_datasets(datasets):\n",
        "  for dataset in datasets:\n",
        "    src = DATASET_DIR + dataset + \".tar.gz\"\n",
        "    dest = DATASET_DIR + dataset + '/'\n",
        "    !mkdir -p {DATASET_DIR + dataset}\n",
        "    !tar -xf {src} -C {dest}\n",
        "    print(\"Finished extraction\")\n",
        "\n",
        "download_datasets(DATASETS)\n",
        "extract_datasets(DATASETS)"
      ],
      "execution_count": 3,
      "outputs": [
        {
          "output_type": "stream",
          "text": [
            "--2021-06-07 19:08:12--  https://www.openslr.org/resources/12/dev-clean.tar.gz\n",
            "Resolving www.openslr.org (www.openslr.org)... 46.101.158.64\n",
            "Connecting to www.openslr.org (www.openslr.org)|46.101.158.64|:443... connected.\n",
            "HTTP request sent, awaiting response... 200 OK\n",
            "Length: 337926286 (322M) [application/x-gzip]\n",
            "Saving to: ‘./data/dev-clean.tar.gz’\n",
            "\n",
            "./data/dev-clean.ta 100%[===================>] 322.27M  26.0MB/s    in 14s     \n",
            "\n",
            "2021-06-07 19:08:27 (23.6 MB/s) - ‘./data/dev-clean.tar.gz’ saved [337926286/337926286]\n",
            "\n",
            "Finished extraction\n"
          ],
          "name": "stdout"
        }
      ]
    },
    {
      "cell_type": "markdown",
      "metadata": {
        "collapsed": false,
        "pycharm": {
          "name": "#%% md\n"
        },
        "id": "cShnG7OEqYMm"
      },
      "source": [
        "Now let's get the Log Mel Spectrograms!"
      ]
    },
    {
      "cell_type": "code",
      "metadata": {
        "pycharm": {
          "name": "#%%\n"
        },
        "id": "Uq6BRWyO0jjG"
      },
      "source": [
        "\n",
        "def files_to_log_mel_spec(paths, sample_rate, window_size_frames, window_step_frames, num_mel_bins):\n",
        "  \"\"\" Returns \n",
        "  ( Tensor of Log Mel Spectrograms of the audio files in paths, \n",
        "    numpy array of the Lengths of the Spectrograms ) \n",
        "  \"\"\"\n",
        "  n_files = len(paths)\n",
        "  print(f\"Converting {n_files} files to Log Mel Spectrograms\")\n",
        "  lmspecs = [] \n",
        "  lengths = []\n",
        "  for i, path in enumerate(paths):\n",
        "    if i % 250 == 0: print(f\"{i}/{n_files} converted to Log Mel Spectrograms\")\n",
        "    audio = tf.io.read_file(path)\n",
        "    audio, _ = librosa.load(path, sample_rate)\n",
        "    audio = tf.convert_to_tensor(audio)\n",
        "    # Get Spectrogram using Short-time Fourier Transform\n",
        "    stfts = tf.signal.stft(audio, frame_length=window_size_frames, frame_step=window_step_frames, fft_length=1024)\n",
        "    spectrograms = tf.abs(stfts)\n",
        "    # Warp the linear scale spectrograms into the Mel Scale.\n",
        "    num_spectrogram_bins = stfts.shape[-1]\n",
        "    lower_edge_hertz, upper_edge_hertz = 80.0, 7600.0\n",
        "    linear_to_mel_weight_matrix = tf.signal.linear_to_mel_weight_matrix(\n",
        "      num_mel_bins, num_spectrogram_bins, sample_rate, lower_edge_hertz,\n",
        "      upper_edge_hertz)\n",
        "    mel_spectrograms = tf.tensordot(spectrograms, linear_to_mel_weight_matrix, 1)\n",
        "    mel_spectrograms.set_shape(spectrograms.shape[:-1].concatenate(\n",
        "      linear_to_mel_weight_matrix.shape[-1:]))\n",
        "    # Compute a stabilized log to get log-magnitude mel-scale spectrograms.\n",
        "    lmspec = tf.math.log(mel_spectrograms + 1e-6)\n",
        "\n",
        "    # Normalize Log Mel Spectrogram\n",
        "    means = tf.math.reduce_mean(lmspec, 1, keepdims=True)\n",
        "    stddevs = tf.math.reduce_std(lmspec, 1, keepdims=True)\n",
        "    lmspec = (lmspec - means) / stddevs\n",
        "\n",
        "    # Pad to make consistent (required for Neural Network)\n",
        "    pad_len = 4500 # Longest in dev-clean is 3263\n",
        "    paddings = tf.constant([[0, pad_len], [0, 0]])\n",
        "    lmspec = tf.pad(lmspec, paddings, \"CONSTANT\")[:pad_len, :]\n",
        "\n",
        "    lmspecs.append(lmspec)\n",
        "    lengths.append(len(lmspec))\n",
        "\n",
        "  print(f\"{n_files}/{n_files} converted to Log Mel Spectrograms\")\n",
        "\n",
        "  return lmspecs, np.array(lengths).astype(np.int32)\n"
      ],
      "execution_count": 4,
      "outputs": []
    },
    {
      "cell_type": "code",
      "metadata": {
        "colab": {
          "base_uri": "https://localhost:8080/"
        },
        "id": "5pKKC96A4omz",
        "outputId": "7dd627df-df49-43b5-d943-9f4e644870ec"
      },
      "source": [
        "# Example\n",
        "files_to_log_mel_spec(['./data/dev-clean/LibriSpeech/dev-clean/1272/128104/1272-128104-0000.flac'], sample_rate, window_size_frames, window_step_frames, n_filters)"
      ],
      "execution_count": 5,
      "outputs": [
        {
          "output_type": "stream",
          "text": [
            "Converting 1 files to Log Mel Spectrograms\n",
            "0/1 converted to Log Mel Spectrograms\n",
            "1/1 converted to Log Mel Spectrograms\n"
          ],
          "name": "stdout"
        },
        {
          "output_type": "execute_result",
          "data": {
            "text/plain": [
              "([<tf.Tensor: shape=(4500, 40), dtype=float32, numpy=\n",
              "  array([[ 0.20061943, -1.0287393 , -1.509152  , ..., -1.2667471 ,\n",
              "          -0.5122534 , -0.39129886],\n",
              "         [-0.4862597 , -1.1197394 , -0.5595873 , ..., -0.9269718 ,\n",
              "          -0.5736864 , -0.34323072],\n",
              "         [ 0.6221455 , -0.00927406, -0.01342059, ..., -0.83187187,\n",
              "          -0.71671116, -0.4780636 ],\n",
              "         ...,\n",
              "         [ 0.        ,  0.        ,  0.        , ...,  0.        ,\n",
              "           0.        ,  0.        ],\n",
              "         [ 0.        ,  0.        ,  0.        , ...,  0.        ,\n",
              "           0.        ,  0.        ],\n",
              "         [ 0.        ,  0.        ,  0.        , ...,  0.        ,\n",
              "           0.        ,  0.        ]], dtype=float32)>],\n",
              " array([4500], dtype=int32))"
            ]
          },
          "metadata": {
            "tags": []
          },
          "execution_count": 5
        }
      ]
    },
    {
      "cell_type": "markdown",
      "metadata": {
        "collapsed": false,
        "pycharm": {
          "name": "#%% md\n"
        },
        "id": "9ytf-ldeqYMo"
      },
      "source": [
        "Sometimes you may see MFCCs used as the ASR features instead of Mel Filter Banks. MFCCs are values that loosely represents the brain's capacity to filter out certain signals. MFCCs were popular with HMM-based models for helping model based on human-perceptible information, but newer architecture can usually use Filter Banks and get similar or better accuracy. You can read more [here](https://haythamfayek.com/2016/04/21/speech-processing-for-machine-learning.html).\n",
        "\n",
        "The diagram below shows the steps required for calculating the Filter Banks and MFCCs. As you can see, MFCCs require a few more calculations after the Filter Banks:\n",
        "\n",
        "![features pipeline](https://drive.google.com/uc?export=view&id=15T0MgXcj9wA_ZQ_i4tCLukUCH-7T2FnB)\n",
        "\n",
        "https://www.youtube.com/watch?v=QTw-6GU5Mjs&t=319s\n"
      ]
    },
    {
      "cell_type": "markdown",
      "metadata": {
        "collapsed": false,
        "pycharm": {
          "name": "#%% md\n"
        },
        "id": "3LTCfVc8qYMq"
      },
      "source": [
        "Let's also add a helper function that'll allow us to map the spectrograms to their target text! Specifically, this function will Tokenize the target text (i.e. split the text by character) and Numericize it (i.e. map each character to an integer). We'll also insert some special boundary characters to help the NN read the string:"
      ]
    },
    {
      "cell_type": "code",
      "metadata": {
        "id": "9EcJ1gzN7elI"
      },
      "source": [
        "# This tokenization code was borrowed/modified from https://github.com/30stomercury/Automatic-Speech-Recognition/blob/master/utils/tokenizer.py\n",
        "import string\n",
        "def char2id(vocab):\n",
        "    \"\"\"\n",
        "    Args:\n",
        "        special_tokens: special charactors, #, <, >, _\n",
        "    Returns:\n",
        "        char2id: dict, from character to index.\n",
        "        id2char: dict, from index to character.\n",
        "    \"\"\"\n",
        "    tokens = vocab\n",
        "    token_to_id = {}\n",
        "    id_to_token = {}\n",
        "    for i, c in enumerate(tokens):\n",
        "        token_to_id[c] = i\n",
        "        id_to_token[i] = c\n",
        "    return token_to_id, id_to_token\n",
        "\n",
        "_char2id, _id2char = char2id(VOCAB)  # Lookup dictionaries\n",
        "\n",
        "def tokenize(uppercase_sentence):\n",
        "  \"\"\" Returns a Tokenization of the given sentence and its length \"\"\"\n",
        "  tokens = [_char2id[SPECIAL_TOKENS[1]]] # Put Start-of-Sentence character\n",
        "  tokens += [_char2id[char] if char != ' ' else _char2id[SPECIAL_TOKENS[3]] for char in list(uppercase_sentence)]\n",
        "  tokens += [_char2id[SPECIAL_TOKENS[2]]] # Put End-of-Sentence character\n",
        "  return tokens, len(tokens)"
      ],
      "execution_count": 6,
      "outputs": []
    },
    {
      "cell_type": "code",
      "metadata": {
        "pycharm": {
          "name": "#%%\n"
        },
        "id": "GH7eT9dVqYMq"
      },
      "source": [
        "\n",
        "def tokenize_sentences(sentences):\n",
        "  \"\"\" Iterate through a list of sentences and tokenize them.\n",
        "  Returns: ( an array of tokens, their lengths )\"\"\"\n",
        "  tokens = []\n",
        "  lengths = []\n",
        "  n_sentences = len(sentences)\n",
        "  print(\"Tokenizing \"+str(n_sentences)+\" sentences\")\n",
        "  for sentence in sentences:\n",
        "    # sentence = sentence.translate(str.maketrans('', '', string.punctuation))\n",
        "    sentence_converted, length = tokenize(sentence)\n",
        "    # Pad Tokenization\n",
        "    to_pad = MAX_TEXT_LEN - length # max in dev_clean is 513\n",
        "    sentence_converted += [_char2id[SPECIAL_TOKENS[0]]] * to_pad\n",
        "    tokens.append(sentence_converted)\n",
        "    lengths.append(length)\n",
        "  return np.array(tokens), np.array(lengths).astype(np.int32)\n"
      ],
      "execution_count": 7,
      "outputs": []
    },
    {
      "cell_type": "code",
      "metadata": {
        "colab": {
          "base_uri": "https://localhost:8080/"
        },
        "id": "AYktTn5z_W5V",
        "outputId": "41b2ea1c-78be-4c3f-d712-9af4a01e84bd"
      },
      "source": [
        "# Show examples\n",
        "print(\"Numericization dict: \"+str(_char2id))\n",
        "print(\"'TEST' tokenized is \"+str(tokenize('TEST')[0])+\" where the 1st token is < and the last token is >\") "
      ],
      "execution_count": 8,
      "outputs": [
        {
          "output_type": "stream",
          "text": [
            "Numericization dict: {'#': 0, '<': 1, '>': 2, '_': 3, 'A': 4, 'B': 5, 'C': 6, 'D': 7, 'E': 8, 'F': 9, 'G': 10, 'H': 11, 'I': 12, 'J': 13, 'K': 14, 'L': 15, 'M': 16, 'N': 17, 'O': 18, 'P': 19, 'Q': 20, 'R': 21, 'S': 22, 'T': 23, 'U': 24, 'V': 25, 'W': 26, 'X': 27, 'Y': 28, 'Z': 29}\n",
            "'TEST' tokenized is [1, 23, 8, 22, 23, 2] where the 1st token is < and the last token is >\n"
          ],
          "name": "stdout"
        }
      ]
    },
    {
      "cell_type": "markdown",
      "metadata": {
        "collapsed": false,
        "pycharm": {
          "name": "#%% md\n"
        },
        "id": "xOsoUXH-qYMr"
      },
      "source": [
        "Now we can extract features and target text from the whole LibriSpeech dataset!"
      ]
    },
    {
      "cell_type": "code",
      "metadata": {
        "pycharm": {
          "name": "#%%\n"
        },
        "id": "--XbcV5HqYMs"
      },
      "source": [
        "# The following code borrowed/modified from https://github.com/30stomercury/Automatic-Speech-Recognition/blob/master/preprocess.py\n",
        "\n",
        "# When number of audios in a set (usually training set) > threshold, divide set into several parts to avoid memory error.\n",
        "_SAMPLE_THRESHOLD = 30000\n",
        "\n",
        "def extract_inputs(datasets, datasets_dir, feat_dir):\n",
        "  \"\"\" Iterate through LibriSpeech dataset and save features and texts to \n",
        "      binaries under feat_dir. \n",
        "  \"\"\"\n",
        "\n",
        "  def get_texts_and_audio_paths(root_dataset_path):\n",
        "    \"\"\" Iterate through folders in a directory.\n",
        "    Return: Target texts, paths of correspending audio recordings \n",
        "    \"\"\"\n",
        "    folders = glob(root_dataset_path+\"/**/**\")\n",
        "    texts = []\n",
        "    audio_path = []\n",
        "    for path in folders:\n",
        "      text_path = glob(path+\"/*txt\")[0]\n",
        "      f = open(text_path)\n",
        "      for line in f.readlines():\n",
        "          line_ = line.split(\" \")\n",
        "          audio_path.append(path+\"/\"+line_[0]+\".flac\")\n",
        "          texts.append(line[len(line_[0])+1:-1].replace(\"'\",\"\"))\n",
        "    return texts, audio_path\n",
        "    \n",
        "  def process_libri_features(audio_path, cat, k):\n",
        "      \"\"\"When number of feats > threshold, divide feature\n",
        "          into several parts to avoid memory error.\n",
        "      \"\"\"\n",
        "      if len(audio_path) > _SAMPLE_THRESHOLD:\n",
        "          featlen = []\n",
        "          n = len(audio_path) // k + 1\n",
        "          logging.info(\"Process {} audios...\".format(cat))\n",
        "          for i in tqdm(range(k)):\n",
        "              feats, featlen_ = files_to_log_mel_spec(audio_path[i*n:(i+1)*n], sample_rate, window_size_frames, window_step_frames, n_filters)\n",
        "              featlen += featlen_\n",
        "              # Save the features into a file\n",
        "              joblib.dump(feats, feat_dir+\"/{}-feats-{}.pkl\".format(cat, i))\n",
        "              feats = []\n",
        "      else:\n",
        "          feats, featlen = files_to_log_mel_spec(audio_path, sample_rate, window_size_frames, window_step_frames, n_filters)\n",
        "          joblib.dump(feats, feat_dir+\"/{}-feats.pkl\".format(cat))\n",
        "      np.save(feat_dir+\"/{}-featlen.npy\".format(cat), featlen)\n",
        "\n",
        "  # Main extraction\n",
        "  for dataset_name in datasets:\n",
        "    to_cat = dataset_name\n",
        "    libri_path = datasets_dir + dataset_name + '/' + 'LibriSpeech' + '/' + dataset_name\n",
        "    print(\"Extracting from \"+libri_path)\n",
        "    target_texts, audio_paths = get_texts_and_audio_paths(libri_path)\n",
        "\n",
        "    # Tokenize sentence\n",
        "    tokens, token_lengths = tokenize_sentences(target_texts)\n",
        "\n",
        "    # Save tokens and their lengths to files\n",
        "    np.save(feat_dir+\"/{}-{}s.npy\".format(to_cat,'char'), tokens)\n",
        "    np.save(feat_dir+\"/{}-{}len.npy\".format(to_cat,'char'), token_lengths)\n",
        "\n",
        "    # Extract and download features (in our case, the Log Mel Spectrograms)\n",
        "    process_libri_features(audio_paths, to_cat, len(audio_paths)//_SAMPLE_THRESHOLD)\n",
        "  print(\"Finished extraction\")\n"
      ],
      "execution_count": 9,
      "outputs": []
    },
    {
      "cell_type": "code",
      "metadata": {
        "colab": {
          "base_uri": "https://localhost:8080/"
        },
        "id": "DtgqjcI75ju8",
        "outputId": "98c6f422-dc2f-4a48-8d3e-bf73098c8005"
      },
      "source": [
        "\n",
        "!mkdir -p {FEATURES_DIR}\n",
        "extract_inputs(DATASETS, DATASET_DIR, FEATURES_DIR)"
      ],
      "execution_count": 10,
      "outputs": [
        {
          "output_type": "stream",
          "text": [
            "Extracting from ./data/dev-clean/LibriSpeech/dev-clean\n",
            "Tokenizing 2703 sentences\n",
            "Converting 2703 files to Log Mel Spectrograms\n",
            "0/2703 converted to Log Mel Spectrograms\n",
            "250/2703 converted to Log Mel Spectrograms\n",
            "500/2703 converted to Log Mel Spectrograms\n",
            "750/2703 converted to Log Mel Spectrograms\n",
            "1000/2703 converted to Log Mel Spectrograms\n",
            "1250/2703 converted to Log Mel Spectrograms\n",
            "1500/2703 converted to Log Mel Spectrograms\n",
            "1750/2703 converted to Log Mel Spectrograms\n",
            "2000/2703 converted to Log Mel Spectrograms\n",
            "2250/2703 converted to Log Mel Spectrograms\n",
            "2500/2703 converted to Log Mel Spectrograms\n",
            "2703/2703 converted to Log Mel Spectrograms\n",
            "Finished extraction\n"
          ],
          "name": "stdout"
        }
      ]
    },
    {
      "cell_type": "code",
      "metadata": {
        "id": "YjWggoD3GcNh"
      },
      "source": [
        "\n",
        "def load_extracted_data(feature_dir, datasets):\n",
        "  \"\"\" Load the data from files \"\"\"\n",
        "  dataset = datasets[0]\n",
        "  features = joblib.load(feature_dir+\"/{}-feats.pkl\".format(dataset))\n",
        "  feature_lengths = np.load(feature_dir+\"/{}-featlen.npy\".format(dataset), allow_pickle=True)\n",
        "  tokens = np.load(feature_dir+\"/{}-chars.npy\".format(dataset), allow_pickle=True)\n",
        "  token_lengths = np.load(feature_dir+\"/{}-charlen.npy\".format(dataset), allow_pickle=True)\n",
        "  return features, feature_lengths, tokens, token_lengths\n",
        "\n",
        "# Load our saved data\n",
        "features, feature_lengths, tokens, token_lengths = load_extracted_data(FEATURES_DIR, DATASETS)"
      ],
      "execution_count": 11,
      "outputs": []
    },
    {
      "cell_type": "code",
      "metadata": {
        "id": "17I-D8UCILms"
      },
      "source": [
        "def create_tensorflow_datasets(features, tokens, batch_size):\n",
        "  \"\"\" Return Tensorflow Dataset objects for features, tokens \"\"\"\n",
        "  features_ds = tf.data.Dataset.from_tensor_slices(features)\n",
        "  tokens_ds = tf.data.Dataset.from_tensor_slices(tokens)\n",
        "  ds = tf.data.Dataset.zip((features_ds, tokens_ds))\n",
        "  ds = ds.map(lambda x, y: {\"source\": x, \"target\": y})\n",
        "  ds = ds.batch(batch_size)\n",
        "  ds = ds.prefetch(tf.data.experimental.AUTOTUNE)\n",
        "  return ds\n",
        "\n",
        "split = int(len(features) * 0.99)\n",
        "# Training dataset\n",
        "train_features = features[:split]\n",
        "train_tokens = tokens[:split]\n",
        "train_ds = create_tensorflow_datasets(train_features, train_tokens, 64)\n",
        "\n",
        "# Testing dataset\n",
        "test_features = features[split:]\n",
        "test_tokens = tokens[split:]\n",
        "test_ds = create_tensorflow_datasets(test_features, test_tokens, 4)"
      ],
      "execution_count": 12,
      "outputs": []
    },
    {
      "cell_type": "code",
      "metadata": {
        "id": "d3qww-_iQnTP"
      },
      "source": [
        "# data = ['lol', 'go']\n",
        "# [_[\"text\"] for _ in data]"
      ],
      "execution_count": 13,
      "outputs": []
    },
    {
      "cell_type": "markdown",
      "metadata": {
        "id": "8e05sHJGIpxa"
      },
      "source": [
        "## Encoder-Decoder Architectures for ASR\n",
        "\n",
        "### Attention Optimization\n",
        "A weakness to the plain encoder-decoder model is that accuracy of predictions is worse with longer sequences of input. The issue lies in the inability of the model to use distant information to predict words farther in the sentence, which is caused by the Context Vector being fixed in size and unable to store long sentences. Due to how the beginning of a sentence strongly influences the rest of the sentence, an solution to this weakness was needed. In 2014 a landmark paper (Bahdanau et. al) introduced the concept of an \"attention mechanism.\" Intuitively, it allows the model to pay *attention* to any part of the input when making predictions. Structurally we implement Attention as an vector of weights summing to 1 that determine how much attention we pay to that input in the sequence.\n",
        "\n",
        "### Listen, Attend, and Spell\n",
        "For the our ASR model, we'll be using an 'Listen, Attend, and Spell' (LAS) RNN. The LAS was proposed by in 2016 for ASR architecture in order to simplify Hybrid architecture (such as DNN-HMMs or CTC-HMMs) and avoid the aforementioned independence assumptions. Since then it has been the forefront of ASR architecture.\n",
        "\n",
        "https://storage.googleapis.com/pub-tools-public-publication-data/pdf/44926.pdf\n",
        "\n",
        "The objective of LAS is to transform an arbitrary-length input sequence to an arbitrary-length output sequence. LAS is an encoder-decoder model- a class of RNN's that is well-suited for problems where the length of the inputs greatly differs from the length of the outputs (like ASR)."
      ]
    },
    {
      "cell_type": "markdown",
      "metadata": {
        "id": "ASE9hs1Qi3jZ"
      },
      "source": [
        "https://keras.io/examples/audio/transformer_asr/\n",
        "\n",
        "Define the Transformer Input Layer\n",
        "\n",
        "When processing past target tokens for the decoder, we compute the sum of position embeddings and token embeddings.\n",
        "\n",
        "When processing audio features, we apply convolutional layers to downsample them (via convolution stides) and process local relationships."
      ]
    },
    {
      "cell_type": "code",
      "metadata": {
        "id": "8b7k3PN3i9LK"
      },
      "source": [
        "\n",
        "class TokenEmbedding(layers.Layer):\n",
        "    def __init__(self, num_vocab=1000, maxlen=100, num_hid=64):\n",
        "        super().__init__()\n",
        "        self.emb = tf.keras.layers.Embedding(num_vocab, num_hid)\n",
        "        self.pos_emb = layers.Embedding(input_dim=maxlen, output_dim=num_hid)\n",
        "\n",
        "    def call(self, x):\n",
        "        maxlen = tf.shape(x)[-1]\n",
        "        x = self.emb(x)\n",
        "        positions = tf.range(start=0, limit=maxlen, delta=1)\n",
        "        positions = self.pos_emb(positions)\n",
        "        return x + positions\n",
        "\n",
        "\n",
        "class SpeechFeatureEmbedding(layers.Layer):\n",
        "    def __init__(self, num_hid=64, maxlen=100):\n",
        "        super().__init__()\n",
        "        self.conv1 = tf.keras.layers.Conv1D(\n",
        "            num_hid, 11, strides=2, padding=\"same\", activation=\"relu\"\n",
        "        )\n",
        "        self.conv2 = tf.keras.layers.Conv1D(\n",
        "            num_hid, 11, strides=2, padding=\"same\", activation=\"relu\"\n",
        "        )\n",
        "        self.conv3 = tf.keras.layers.Conv1D(\n",
        "            num_hid, 11, strides=2, padding=\"same\", activation=\"relu\"\n",
        "        )\n",
        "        self.pos_emb = layers.Embedding(input_dim=maxlen, output_dim=num_hid)\n",
        "\n",
        "    def call(self, x):\n",
        "        x = self.conv1(x)\n",
        "        x = self.conv2(x)\n",
        "        return self.conv3(x)\n"
      ],
      "execution_count": 14,
      "outputs": []
    },
    {
      "cell_type": "markdown",
      "metadata": {
        "id": "n7Q_-1hBjAdm"
      },
      "source": [
        "Transformer Encoder Layer"
      ]
    },
    {
      "cell_type": "code",
      "metadata": {
        "id": "pjIuJXHojHtx"
      },
      "source": [
        "\n",
        "class TransformerEncoder(layers.Layer):\n",
        "    def __init__(self, embed_dim, num_heads, feed_forward_dim, rate=0.1):\n",
        "        super().__init__()\n",
        "        self.att = layers.MultiHeadAttention(num_heads=num_heads, key_dim=embed_dim)\n",
        "        self.ffn = keras.Sequential(\n",
        "            [\n",
        "                layers.Dense(feed_forward_dim, activation=\"relu\"),\n",
        "                layers.Dense(embed_dim),\n",
        "            ]\n",
        "        )\n",
        "        self.layernorm1 = layers.LayerNormalization(epsilon=1e-6)\n",
        "        self.layernorm2 = layers.LayerNormalization(epsilon=1e-6)\n",
        "        self.dropout1 = layers.Dropout(rate)\n",
        "        self.dropout2 = layers.Dropout(rate)\n",
        "\n",
        "    def call(self, inputs, training):\n",
        "        attn_output = self.att(inputs, inputs)\n",
        "        attn_output = self.dropout1(attn_output, training=training)\n",
        "        out1 = self.layernorm1(inputs + attn_output)\n",
        "        ffn_output = self.ffn(out1)\n",
        "        ffn_output = self.dropout2(ffn_output, training=training)\n",
        "        return self.layernorm2(out1 + ffn_output)\n"
      ],
      "execution_count": 15,
      "outputs": []
    },
    {
      "cell_type": "markdown",
      "metadata": {
        "id": "UNTOa1gEjEOy"
      },
      "source": [
        "Transformer Decoder Layer"
      ]
    },
    {
      "cell_type": "code",
      "metadata": {
        "id": "zRl4-epKjFis"
      },
      "source": [
        "\n",
        "class TransformerDecoder(layers.Layer):\n",
        "    def __init__(self, embed_dim, num_heads, feed_forward_dim, dropout_rate=0.1):\n",
        "        super().__init__()\n",
        "        self.layernorm1 = layers.LayerNormalization(epsilon=1e-6)\n",
        "        self.layernorm2 = layers.LayerNormalization(epsilon=1e-6)\n",
        "        self.layernorm3 = layers.LayerNormalization(epsilon=1e-6)\n",
        "        self.self_att = layers.MultiHeadAttention(\n",
        "            num_heads=num_heads, key_dim=embed_dim\n",
        "        )\n",
        "        self.enc_att = layers.MultiHeadAttention(num_heads=num_heads, key_dim=embed_dim)\n",
        "        self.self_dropout = layers.Dropout(0.5)\n",
        "        self.enc_dropout = layers.Dropout(0.1)\n",
        "        self.ffn_dropout = layers.Dropout(0.1)\n",
        "        self.ffn = keras.Sequential(\n",
        "            [\n",
        "                layers.Dense(feed_forward_dim, activation=\"relu\"),\n",
        "                layers.Dense(embed_dim),\n",
        "            ]\n",
        "        )\n",
        "\n",
        "    def causal_attention_mask(self, batch_size, n_dest, n_src, dtype):\n",
        "        \"\"\"Masks the upper half of the dot product matrix in self attention.\n",
        "\n",
        "        This prevents flow of information from future tokens to current token.\n",
        "        1's in the lower triangle, counting from the lower right corner.\n",
        "        \"\"\"\n",
        "        i = tf.range(n_dest)[:, None]\n",
        "        j = tf.range(n_src)\n",
        "        m = i >= j - n_src + n_dest\n",
        "        mask = tf.cast(m, dtype)\n",
        "        mask = tf.reshape(mask, [1, n_dest, n_src])\n",
        "        mult = tf.concat(\n",
        "            [tf.expand_dims(batch_size, -1), tf.constant([1, 1], dtype=tf.int32)], 0\n",
        "        )\n",
        "        return tf.tile(mask, mult)\n",
        "\n",
        "    def call(self, enc_out, target):\n",
        "        input_shape = tf.shape(target)\n",
        "        batch_size = input_shape[0]\n",
        "        seq_len = input_shape[1]\n",
        "        causal_mask = self.causal_attention_mask(batch_size, seq_len, seq_len, tf.bool)\n",
        "        target_att = self.self_att(target, target, attention_mask=causal_mask)\n",
        "        target_norm = self.layernorm1(target + self.self_dropout(target_att))\n",
        "        enc_out = self.enc_att(target_norm, enc_out)\n",
        "        enc_out_norm = self.layernorm2(self.enc_dropout(enc_out) + target_norm)\n",
        "        ffn_out = self.ffn(enc_out_norm)\n",
        "        ffn_out_norm = self.layernorm3(enc_out_norm + self.ffn_dropout(ffn_out))\n",
        "        return ffn_out_norm\n"
      ],
      "execution_count": 16,
      "outputs": []
    },
    {
      "cell_type": "markdown",
      "metadata": {
        "id": "ifXko38zjKN5"
      },
      "source": [
        "Complete the Transformer model\n",
        "\n",
        "Our model takes audio spectrograms as inputs and predicts a sequence of characters. During training, we give the decoder the target character sequence shifted to the left as input. During inference, the decoder uses its own past predictions to predict the next token."
      ]
    },
    {
      "cell_type": "code",
      "metadata": {
        "id": "SY17aoGsjN5O"
      },
      "source": [
        "\n",
        "@tf.keras.utils.register_keras_serializable()\n",
        "class Transformer(keras.Model):\n",
        "    def __init__(\n",
        "        self,\n",
        "        num_hid=64,\n",
        "        num_head=2,\n",
        "        num_feed_forward=128,\n",
        "        source_maxlen=100,\n",
        "        target_maxlen=100,\n",
        "        num_layers_enc=4,\n",
        "        num_layers_dec=1,\n",
        "        num_classes=10,\n",
        "    ):\n",
        "        super().__init__()\n",
        "        self.loss_metric = keras.metrics.Mean(name=\"loss\")\n",
        "        self.num_layers_enc = num_layers_enc\n",
        "        self.num_layers_dec = num_layers_dec\n",
        "        self.target_maxlen = target_maxlen\n",
        "        self.num_classes = num_classes\n",
        "\n",
        "        self.enc_input = SpeechFeatureEmbedding(num_hid=num_hid, maxlen=source_maxlen)\n",
        "        self.dec_input = TokenEmbedding(\n",
        "            num_vocab=num_classes, maxlen=target_maxlen, num_hid=num_hid\n",
        "        )\n",
        "\n",
        "        self.encoder = keras.Sequential(\n",
        "            [self.enc_input]\n",
        "            + [\n",
        "                TransformerEncoder(num_hid, num_head, num_feed_forward)\n",
        "                for _ in range(num_layers_enc)\n",
        "            ]\n",
        "        )\n",
        "\n",
        "        for i in range(num_layers_dec):\n",
        "            setattr(\n",
        "                self,\n",
        "                f\"dec_layer_{i}\",\n",
        "                TransformerDecoder(num_hid, num_head, num_feed_forward),\n",
        "            )\n",
        "\n",
        "        self.classifier = layers.Dense(num_classes)\n",
        "\n",
        "    def decode(self, enc_out, target):\n",
        "        y = self.dec_input(target)\n",
        "        for i in range(self.num_layers_dec):\n",
        "            y = getattr(self, f\"dec_layer_{i}\")(enc_out, y)\n",
        "        return y\n",
        "\n",
        "    def call(self, inputs):\n",
        "        source = inputs[0]\n",
        "        target = inputs[1]\n",
        "        x = self.encoder(source)\n",
        "        y = self.decode(x, target)\n",
        "        return self.classifier(y)\n",
        "\n",
        "    @property\n",
        "    def metrics(self):\n",
        "        return [self.loss_metric]\n",
        "\n",
        "    def train_step(self, batch):\n",
        "        \"\"\"Processes one batch inside model.fit().\"\"\"\n",
        "        source = batch[\"source\"]\n",
        "        target = batch[\"target\"]\n",
        "        dec_input = target[:, :-1]\n",
        "        dec_target = target[:, 1:]\n",
        "        with tf.GradientTape() as tape:\n",
        "            preds = self([source, dec_input])\n",
        "            one_hot = tf.one_hot(dec_target, depth=self.num_classes)\n",
        "            mask = tf.math.logical_not(tf.math.equal(dec_target, 0))\n",
        "            loss = self.compiled_loss(one_hot, preds, sample_weight=mask)\n",
        "        trainable_vars = self.trainable_variables\n",
        "        gradients = tape.gradient(loss, trainable_vars)\n",
        "        self.optimizer.apply_gradients(zip(gradients, trainable_vars))\n",
        "        self.loss_metric.update_state(loss)\n",
        "        return {\"loss\": self.loss_metric.result()}\n",
        "\n",
        "    def test_step(self, batch):\n",
        "        source = batch[\"source\"]\n",
        "        target = batch[\"target\"]\n",
        "        dec_input = target[:, :-1]\n",
        "        dec_target = target[:, 1:]\n",
        "        preds = self([source, dec_input])\n",
        "        one_hot = tf.one_hot(dec_target, depth=self.num_classes)\n",
        "        mask = tf.math.logical_not(tf.math.equal(dec_target, 0))\n",
        "        loss = self.compiled_loss(one_hot, preds, sample_weight=mask)\n",
        "        self.loss_metric.update_state(loss)\n",
        "        return {\"loss\": self.loss_metric.result()}\n",
        "\n",
        "    def generate(self, source, target_start_token_idx):\n",
        "        \"\"\"Performs inference over one batch of inputs using greedy decoding.\"\"\"\n",
        "        bs = tf.shape(source)[0]\n",
        "        enc = self.encoder(source)\n",
        "        dec_input = tf.ones((bs, 1), dtype=tf.int32) * target_start_token_idx\n",
        "        dec_logits = []\n",
        "        for i in range(self.target_maxlen - 1):\n",
        "            dec_out = self.decode(enc, dec_input)\n",
        "            logits = self.classifier(dec_out)\n",
        "            logits = tf.argmax(logits, axis=-1, output_type=tf.int32)\n",
        "            last_logit = tf.expand_dims(logits[:, -1], axis=-1)\n",
        "            dec_logits.append(last_logit)\n",
        "            dec_input = tf.concat([dec_input, last_logit], axis=-1)\n",
        "        return dec_input\n"
      ],
      "execution_count": 17,
      "outputs": []
    },
    {
      "cell_type": "markdown",
      "metadata": {
        "id": "qATDvJ6Wkr-t"
      },
      "source": [
        "Callbacks to display predictions"
      ]
    },
    {
      "cell_type": "code",
      "metadata": {
        "id": "DOBrVq4_Op2y",
        "colab": {
          "base_uri": "https://localhost:8080/"
        },
        "outputId": "f3d787c7-26b0-4e47-bad3-170f3131c704"
      },
      "source": [
        "\n",
        "from google.colab import drive\n",
        "drive.mount('/content/gdrive')"
      ],
      "execution_count": 18,
      "outputs": [
        {
          "output_type": "stream",
          "text": [
            "Drive already mounted at /content/gdrive; to attempt to forcibly remount, call drive.mount(\"/content/gdrive\", force_remount=True).\n"
          ],
          "name": "stdout"
        }
      ]
    },
    {
      "cell_type": "code",
      "metadata": {
        "id": "vnFXkLgrO20U"
      },
      "source": [
        "MODELS_DIR = '/ASR_Trained_Models/'  # Where our model will be saved in Google Drive\n",
        "MODEL_NAME = 'our-transformer'\n",
        "\n",
        "dest_folder = \"/content/gdrive/MyDrive\" + MODELS_DIR"
      ],
      "execution_count": 19,
      "outputs": []
    },
    {
      "cell_type": "code",
      "metadata": {
        "id": "ZbzGLyKJkjih"
      },
      "source": [
        "class DisplayOutputs(keras.callbacks.Callback):\n",
        "    def __init__(\n",
        "        self, batch, idx_to_token, target_start_token_idx=1, target_end_token_idx=2\n",
        "    ):\n",
        "        \"\"\"Displays a batch of outputs after every epoch\n",
        "\n",
        "        Args:\n",
        "            batch: A test batch containing the keys \"source\" and \"target\"\n",
        "            idx_to_token: A List containing the vocabulary tokens corresponding to their indices\n",
        "            target_start_token_idx: A start token index in the target vocabulary\n",
        "            target_end_token_idx: An end token index in the target vocabulary\n",
        "        \"\"\"\n",
        "        self.batch = batch\n",
        "        self.target_start_token_idx = target_start_token_idx\n",
        "        self.target_end_token_idx = target_end_token_idx\n",
        "        self.idx_to_char = idx_to_token\n",
        "\n",
        "    def on_epoch_end(self, epoch, logs=None):\n",
        "        # if epoch % 5 != 0:\n",
        "        #     return\n",
        "        source = self.batch[\"source\"]\n",
        "        target = self.batch[\"target\"].numpy()\n",
        "        bs = tf.shape(source)[0]\n",
        "        preds = self.model.generate(source, self.target_start_token_idx)\n",
        "        preds = preds.numpy()\n",
        "        print(f\"epoch:      {epoch}\")\n",
        "        for i in range(bs):\n",
        "            target_text = \"\".join([self.idx_to_char[_] for _ in target[i, :]])\n",
        "            prediction = \"\"\n",
        "            for idx in preds[i, :]:\n",
        "                prediction += self.idx_to_char[idx]\n",
        "                if idx == self.target_end_token_idx:\n",
        "                    break\n",
        "            print(f\"target:     {target_text.replace('-','')}\")\n",
        "            print(f\"prediction: {prediction}\\n\")\n",
        "        \n",
        "        # Save Model!\n",
        "        dest = \"/content/gdrive/MyDrive\" + MODELS_DIR + MODEL_NAME + f\"-{epoch}\"\n",
        "        model.save_weights(dest, overwrite=True)\n"
      ],
      "execution_count": 20,
      "outputs": []
    },
    {
      "cell_type": "markdown",
      "metadata": {
        "id": "MS4hsfFmkzlW"
      },
      "source": [
        " Learning rate schedule"
      ]
    },
    {
      "cell_type": "code",
      "metadata": {
        "id": "KKd-HU9Vkyxl"
      },
      "source": [
        "\n",
        "class CustomSchedule(keras.optimizers.schedules.LearningRateSchedule):\n",
        "    def __init__(\n",
        "        self,\n",
        "        init_lr=0.00001,\n",
        "        lr_after_warmup=0.001,\n",
        "        final_lr=0.00001,\n",
        "        warmup_epochs=15,\n",
        "        decay_epochs=85,\n",
        "        steps_per_epoch=203,\n",
        "    ):\n",
        "        super().__init__()\n",
        "        self.init_lr = init_lr\n",
        "        self.lr_after_warmup = lr_after_warmup\n",
        "        self.final_lr = final_lr\n",
        "        self.warmup_epochs = warmup_epochs\n",
        "        self.decay_epochs = decay_epochs\n",
        "        self.steps_per_epoch = steps_per_epoch\n",
        "\n",
        "    def calculate_lr(self, epoch):\n",
        "        \"\"\" linear warm up - linear decay \"\"\"\n",
        "        warmup_lr = (\n",
        "            self.init_lr\n",
        "            + ((self.lr_after_warmup - self.init_lr) / (self.warmup_epochs - 1)) * epoch\n",
        "        )\n",
        "        decay_lr = tf.math.maximum(\n",
        "            self.final_lr,\n",
        "            self.lr_after_warmup\n",
        "            - (epoch - self.warmup_epochs)\n",
        "            * (self.lr_after_warmup - self.final_lr)\n",
        "            / (self.decay_epochs),\n",
        "        )\n",
        "        return tf.math.minimum(warmup_lr, decay_lr)\n",
        "\n",
        "    def __call__(self, step):\n",
        "        epoch = step // self.steps_per_epoch\n",
        "        return self.calculate_lr(epoch)\n"
      ],
      "execution_count": 21,
      "outputs": []
    },
    {
      "cell_type": "markdown",
      "metadata": {
        "id": "Xh31mk_6k4P3"
      },
      "source": [
        "Create & train the end-to-end model"
      ]
    },
    {
      "cell_type": "code",
      "metadata": {
        "id": "mnFigtc5EJQ4"
      },
      "source": [
        "EPOCHS = 20\n",
        "\n",
        "batch = next(iter(test_ds))\n",
        "\n",
        "# The vocabulary to convert predicted indices into characters\n",
        "display_cb = DisplayOutputs(\n",
        "    batch, VOCAB, target_start_token_idx=1, target_end_token_idx=2\n",
        ")  # set the arguments as per vocabulary index for '<' and '>'\n",
        "\n",
        "model = Transformer(\n",
        "    num_hid=200,\n",
        "    num_head=2,\n",
        "    num_feed_forward=400,\n",
        "    target_maxlen=MAX_TEXT_LEN,\n",
        "    num_layers_enc=4,\n",
        "    num_layers_dec=1,\n",
        "    num_classes=34,\n",
        ")\n",
        "loss_fn = tf.keras.losses.CategoricalCrossentropy(\n",
        "    from_logits=True, label_smoothing=0.1,\n",
        ")"
      ],
      "execution_count": 22,
      "outputs": []
    },
    {
      "cell_type": "code",
      "metadata": {
        "colab": {
          "base_uri": "https://localhost:8080/"
        },
        "id": "3TDfuahlk6BA",
        "outputId": "9c04466a-4834-4000-e33a-060ba86db231"
      },
      "source": [
        "\n",
        "learning_rate = CustomSchedule(\n",
        "    init_lr=0.00001,\n",
        "    lr_after_warmup=0.001,\n",
        "    final_lr=0.00001,\n",
        "    warmup_epochs=15,\n",
        "    decay_epochs=85,\n",
        "    steps_per_epoch=len(train_ds),\n",
        ")\n",
        "optimizer = keras.optimizers.Adam(learning_rate)\n",
        "model.compile(optimizer=optimizer, loss=loss_fn)\n",
        "\n",
        "history = model.fit(train_ds, validation_data=test_ds, callbacks=[display_cb], epochs=EPOCHS)\n"
      ],
      "execution_count": null,
      "outputs": [
        {
          "output_type": "stream",
          "text": [
            "Epoch 1/20\n",
            "42/42 [==============================] - 1597s 38s/step - loss: nan - val_loss: nan\n",
            "epoch:      0\n",
            "target:     <IN_ALL_OUR_HISTORY_YOU_ARE_THE_FIRST_PEOPLE_FROM_OUTSIDE_OUR_BORDERS_WHO_HAVE_EVER_STEPPED_A_FOOT_IN_OUR_LAND>#############################################################################################################################################################################################################################################################################################################################################################################################################################################################################################################################################################################################################\n",
            "prediction: <###########################################################################################################################################################################################################################################################################################################################################################################################################################################################################################################################################################################################################################################################################################################################\n",
            "\n",
            "target:     <WE_DO_NOT_HATE_YOU_AS_YOU_SAY_THE_BLUESKINS_DO_NOR_ARE_WE_SAVAGE_OR_CRUEL_BUT_WE_DO_NOT_WANT_YOU_HERE_AND_I_AM_REALLY_PUZZLED_WHAT_TO_DO_WITH_YOU>#########################################################################################################################################################################################################################################################################################################################################################################################################################################################################################################################################################################\n",
            "prediction: <###########################################################################################################################################################################################################################################################################################################################################################################################################################################################################################################################################################################################################################################################################################################################\n",
            "\n",
            "target:     <ILL_LOOK_IN_THE_GREAT_BOOK_FIRST>##########################################################################################################################################################################################################################################################################################################################################################################################################################################################################################################################################################################################################################################################################################\n",
            "prediction: <###########################################################################################################################################################################################################################################################################################################################################################################################################################################################################################################################################################################################################################################################################################################################\n",
            "\n",
            "target:     <CHAPTER_THIRTY_THREE_A_CONFIDANT>##########################################################################################################################################################################################################################################################################################################################################################################################################################################################################################################################################################################################################################################################################################\n",
            "prediction: <###########################################################################################################################################################################################################################################################################################################################################################################################################################################################################################################################################################################################################################################################################################################################\n",
            "\n",
            "Epoch 2/20\n",
            "42/42 [==============================] - 1608s 38s/step - loss: nan - val_loss: nan\n",
            "epoch:      1\n",
            "target:     <IN_ALL_OUR_HISTORY_YOU_ARE_THE_FIRST_PEOPLE_FROM_OUTSIDE_OUR_BORDERS_WHO_HAVE_EVER_STEPPED_A_FOOT_IN_OUR_LAND>#############################################################################################################################################################################################################################################################################################################################################################################################################################################################################################################################################################################################################\n",
            "prediction: <###########################################################################################################################################################################################################################################################################################################################################################################################################################################################################################################################################################################################################################################################################################################################\n",
            "\n",
            "target:     <WE_DO_NOT_HATE_YOU_AS_YOU_SAY_THE_BLUESKINS_DO_NOR_ARE_WE_SAVAGE_OR_CRUEL_BUT_WE_DO_NOT_WANT_YOU_HERE_AND_I_AM_REALLY_PUZZLED_WHAT_TO_DO_WITH_YOU>#########################################################################################################################################################################################################################################################################################################################################################################################################################################################################################################################################################################\n",
            "prediction: <###########################################################################################################################################################################################################################################################################################################################################################################################################################################################################################################################################################################################################################################################################################################################\n",
            "\n",
            "target:     <ILL_LOOK_IN_THE_GREAT_BOOK_FIRST>##########################################################################################################################################################################################################################################################################################################################################################################################################################################################################################################################################################################################################################################################################################\n",
            "prediction: <###########################################################################################################################################################################################################################################################################################################################################################################################################################################################################################################################################################################################################################################################################################################################\n",
            "\n",
            "target:     <CHAPTER_THIRTY_THREE_A_CONFIDANT>##########################################################################################################################################################################################################################################################################################################################################################################################################################################################################################################################################################################################################################################################################################\n",
            "prediction: <###########################################################################################################################################################################################################################################################################################################################################################################################################################################################################################################################################################################################################################################################################################################################\n",
            "\n",
            "Epoch 3/20\n",
            "36/42 [========================>.....] - ETA: 3:52 - loss: nan"
          ],
          "name": "stdout"
        }
      ]
    },
    {
      "cell_type": "markdown",
      "metadata": {
        "id": "MSqJCQzb3WWk"
      },
      "source": [
        "Now let's save our model! Since we built our own custom architecture, we'll have to specify a config file."
      ]
    },
    {
      "cell_type": "code",
      "metadata": {
        "id": "iwnwrMx4Bn1d"
      },
      "source": [
        "# features[0]\n",
        "# train_tokens.shape\n",
        "# len(feature_lengths)\n",
        "print(type(train_features))\n",
        "len(train_features)\n",
        "x = tf.data.Dataset.from_tensor_slices(features)\n",
        "y = tf.data.Dataset.from_tensor_slices(tokens)\n",
        "model.evaluate(train_ds)"
      ],
      "execution_count": null,
      "outputs": []
    },
    {
      "cell_type": "code",
      "metadata": {
        "id": "2eiet7s_xAs8"
      },
      "source": [
        "# print(history.params)"
      ],
      "execution_count": null,
      "outputs": []
    },
    {
      "cell_type": "code",
      "metadata": {
        "id": "CQ1WA6ny8ry4"
      },
      "source": [
        "# model.load_weights(dest)"
      ],
      "execution_count": null,
      "outputs": []
    },
    {
      "cell_type": "code",
      "metadata": {
        "id": "470YUI7F8zgF"
      },
      "source": [
        "# sentence = tokenize(\"HELLO\")[0]\n",
        "# sentences = tokenize_sentences([\"HELLO\", \"WORLD\", \"TESTING\"])[0]\n",
        "# print(sentence)\n",
        "\n",
        "# model.predict(sentences) # put training_x and training_y"
      ],
      "execution_count": null,
      "outputs": []
    },
    {
      "cell_type": "code",
      "metadata": {
        "id": "KSwnja1t-5Tx"
      },
      "source": [
        ""
      ],
      "execution_count": null,
      "outputs": []
    },
    {
      "cell_type": "code",
      "metadata": {
        "id": "hHi0rGANZzNG"
      },
      "source": [
        "# !wget -O /content/data/test.wav https://file-examples-com.github.io/uploads/2017/11/file_example_WAV_1MG.wav"
      ],
      "execution_count": null,
      "outputs": []
    },
    {
      "cell_type": "code",
      "metadata": {
        "pycharm": {
          "name": "#%%\n"
        },
        "id": "alnoWfruqYMw"
      },
      "source": [
        "# # add function to AudioHandler\n",
        "# log_specgrams, \\\n",
        "# target_text_chars, \\\n",
        "# total_found_chars, \\\n",
        "# num_target_text_tokens = extract_features_and_text_targets('./data_test/LibriSpeech/dev-clean/')\n",
        "# # https://www.kdnuggets.com/2017/12/audio-classifier-deep-neural-networks.html"
      ],
      "execution_count": null,
      "outputs": []
    },
    {
      "cell_type": "code",
      "metadata": {
        "pycharm": {
          "name": "#%%\n"
        },
        "id": "RLwodtBUqYMx"
      },
      "source": [
        "# target_token_index = None  # A dict mapping an integer to each seen character\n",
        "# encoder_input_data = None\n",
        "# decoder_input_data = None  # An array of dicts mapping characters to whether 1 if seen, 0 if not seen\n",
        "# decoder_target_data = None  # An array of dicts mapping characters to whether 1 if seen, 0 if not seen\n"
      ],
      "execution_count": null,
      "outputs": []
    },
    {
      "cell_type": "code",
      "metadata": {
        "pycharm": {
          "name": "#%%\n"
        },
        "id": "hJR9yKQZqYMy"
      },
      "source": [
        "\n",
        "# batch_size = 64  # Batch size for training.\n",
        "# epochs = 100  # Number of epochs to train for.\n",
        "# latent_dim = 256  # Latent dimensionality of the encoding space.\n",
        "# num_samples = 10000  # Number of samples to train on.\n",
        "# data_path = \"./data/LibriSpeech/dev-clean/1272/128104/1272-128104-0000.flac\"\n",
        "\n",
        "\n"
      ],
      "execution_count": null,
      "outputs": []
    },
    {
      "cell_type": "code",
      "metadata": {
        "pycharm": {
          "name": "#%%\n"
        },
        "id": "9Lq0x61NqYMz"
      },
      "source": [
        "# import keras\n",
        "\n",
        "# encoder_inputs = keras.Input(shape=(None, num_encoder_tokens))\n"
      ],
      "execution_count": null,
      "outputs": []
    },
    {
      "cell_type": "markdown",
      "metadata": {
        "collapsed": false,
        "id": "FJD5RiMhqYMz"
      },
      "source": [
        "\n",
        "Next: build encoder-decoder architecture, based on https://github.com/tensorflow/nmt\n",
        "\n",
        "Next: plug into RNN, run it on Google Colab. Save it\n",
        "\n",
        "Next: let user input voice data, and run it through the model\n",
        "\n",
        "More soucres\n",
        "https://towardsdatascience.com/recognizing-speech-commands-using-recurrent-neural-networks-with-attention-c2b2ba17c837\n",
        "https://lilianweng.github.io/lil-log/2018/06/24/attention-attention.html\n",
        "https://jalammar.github.io/visualizing-neural-machine-translation-mechanics-of-seq2seq-models-with-attention/\n",
        "https://arxiv.org/pdf/1409.0473.pdf"
      ]
    },
    {
      "cell_type": "markdown",
      "metadata": {
        "collapsed": false,
        "pycharm": {
          "name": "#%% md\n"
        },
        "id": "W3mz2H6iqYMz"
      },
      "source": [
        "\n",
        "Further Optimizations:\n",
        "\n",
        "The Context Vector being fixed-length turns out to be a performance bottleneck; given a long input sentences, the the Encoder may not be able to store all of its output in the Context Vector in one timestep.\n",
        "\n",
        "To solve the bottleneck, we could use the 'attention' mechanism which involves the Decoder selecting from all hidden states provided by the Encoder. For the sake of simplicity we won't be doing this optimization.\n"
      ]
    },
    {
      "cell_type": "code",
      "metadata": {
        "id": "RDCvyHwywhif"
      },
      "source": [
        ""
      ],
      "execution_count": null,
      "outputs": []
    },
    {
      "cell_type": "markdown",
      "metadata": {
        "id": "f0Bynw3zFvJg"
      },
      "source": [
        "References:\n",
        "\n",
        "\n",
        "https://stats.stackexchange.com/questions/282987/hidden-markov-model-vs-recurrent-neural-network\n",
        "\n",
        "Jurafsky textbook"
      ]
    }
  ]
}
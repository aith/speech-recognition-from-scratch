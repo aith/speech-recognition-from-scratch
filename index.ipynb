{
 "cells": [
  {
   "cell_type": "markdown",
   "metadata": {
    "collapsed": true,
    "pycharm": {
     "name": "#%% md\n"
    }
   },
   "source": [
    "In this notebook, I'll provide an overview on Automatic Speech Architecture, its standard pipelines, and how to train a model for it!\n",
    "\n",
    "### What is Automatic Speech Recognition?\n",
    "Automatic Speech Recognition (ASR) is the translation of spoken speech to text by a computer.\n",
    "\n",
    "It has many uses:\n",
    "+ closed captioning\n",
    "+ mobile phone voice assistants\n",
    "+ interface for handicapped individuals\n",
    "+ preserve endangered languages\n",
    "\n",
    "However, ASR is very difficult to solve due to:\n",
    "+ Environment (Is there noise? Other speakers?)\n",
    "+ Style of speech (Is it casual, formal, poetic, etc?)\n",
    "+ Style of speaker (Talks fast? Accents? Gender bias?)\n",
    "\n",
    "https://www.youtube.com/watch?v=q67z7PTGRi8\n",
    "\n",
    "Modern ASR models work quite well in ideal, noiseless conditions. However, in noisy conditions they are far from perfect. Below, we can see the typical accuracy for state-of-the-art ASR models in 2020!\n",
    "\n",
    "(Note: To calculate the accuracy of ASR models, we use a 'Word Error Rate.' This determines which percentage of spoken words were incorrectly translated to text by the ASR model. )\n",
    "\n",
    "![word error rate](https://drive.google.com/uc?export=view&id=1iUz9koIqQErBVB0a4db0gSZVdfsfwh9L)\n"
   ]
  },
  {
   "cell_type": "markdown",
   "source": [
    "\n",
    "Architecture:\n",
    "\n",
    "![timeline](https://drive.google.com/uc?export=view&id=1n2ID2ML5x9TFSBJhfdvj5AGI4u-9Mp4m)\n",
    "\n",
    "\n",
    "From the 1980s to the 2010s, ASR was predominately performed by Hidden Markov Model (HMM) architecture. HMMs are probabilistic models for linear sequence classification problems. Given text's linear nature, HMMs seem like a natural fit for ASR.\n",
    "However, using HMMs for ASR come with 3 downsides:\n",
    "+ HMMs are built on the Markov Assumption, which assumes that the probability of the next state only depends on the current state, and not any states prior. This doesn't make sense for language processing, which is highly contextual (see Coarticulation)\n",
    "+ HMMs' state transitions probabilities are 'baked in' and thus inflexible to changes in language\n",
    "+ Classic HMM ASR pipelines require hand-tuned probability distributions for accoustic models and language models from linguistic experts\n",
    "+ HMM-based ASR architecture is very complex, requiring 3 models as input. The figure below demonstrates an HMM-centric ASR architecture\n",
    "\n",
    "![an HMM-based architecture](https://drive.google.com/uc?export=view&id=1loF8wbD-6DRO45Ly7lKnVVIcCn83H-B9)\n",
    "\n",
    "Nowadays Recurrent Neural Networks (RNNs) or RNN-HMM hybrids are favored for ASR because they solve these problems. However, RNN's come at the cost of requiring a vast amount of training data.\n",
    "\n",
    "![an RNN-only architecture](https://drive.google.com/uc?export=view&id=1_9McwMlHIqlPuJGYOkPwB-8h-t13P4pI)\n",
    "(an RNN-only model that has only 4 steps)\n",
    "\n",
    "https://stats.stackexchange.com/questions/282987/hidden-markov-model-vs-recurrent-neural-network\n",
    "Jurafsky textbook\n",
    "\n",
    "For the our ASR model, we'll be using an 'Listen, Attend, and Spell' (LAS) RNN. The LAS was proposed by in 2016 for ASR architecture in order to simplify Hybrid architecture (such as DNN-HMMs or CTC-HMMs) and avoid the aforementioned independence assumptions. Since then it has been the forefront of ASR architecture.\n",
    "\n",
    "https://storage.googleapis.com/pub-tools-public-publication-data/pdf/44926.pdf\n",
    "\n",
    "The objective of LAS is to transform an arbitrary-length input sequence to an arbitrary-length output sequence. LAS is an encoder-decoder model- a class of RNN's that is well-suited for problems where the length of the inputs greatly differs from the length of the outputs (like ASR).\n",
    "\n",
    "Encoder-Decoder models are composed of 3 parts:\n",
    "+ an Encoder\n",
    "+ a Context Vector\n",
    "+ a Decoder\n",
    "\n",
    "The Encoder compresses and summarizes input data into a Context Vector, which is later transformed by the Decoder. The Context Vector must be defined with a fixed-length (usually 256, 512, or 1024).\n",
    "\n",
    "Accoustic Information as Input for RNN:\n",
    "A classic HMM-based ASR model would require us to input 3 probabilistic models (accoustic, pronunciation, and language), whereas an RNN only requires 1 (accoustic). The accoustic model captures important characteristics about how we perceive speech (see MFCC). We'll extract this data from the LibriSpeech ASR dataset.\n",
    "\n",
    "https://www.openslr.org/12\n",
    "\n",
    "We need to first extract features from the audio files- we'll be putting these features in a vector and feeding them into the RNN.\n",
    "In order to extract the features from a given file, we need to perform the following steps:\n",
    "```\n",
    "1) Convert the FLAC file into a Waveform (giving us frequency data over the time domain)\n",
    "2) Split the Waveform into Windows using a Windowing Function (like Hamming)\n",
    "3) For each Window:\n",
    "    a) Compute its Fourier Transform\n",
    "    b) Compute its Mel Spectrogram\n",
    "    c) Compute the log of each value in the Mel Spectrogram\n",
    "    d) Append the result of 3c to the Features Vector\n",
    "4) Return Features Vector\n",
    "```\n",
    "\n"
   ],
   "metadata": {
    "collapsed": false,
    "pycharm": {
     "name": "#%% md\n"
    }
   }
  },
  {
   "cell_type": "code",
   "execution_count": 10,
   "outputs": [
    {
     "data": {
      "text/plain": "<Figure size 432x288 with 2 Axes>",
      "image/png": "[encoded data removed]"
     },
     "metadata": {
      "needs_background": "light"
     },
     "output_type": "display_data"
    }
   ],
   "source": [
    "import librosa, librosa.display\n",
    "import matplotlib.pyplot as plt\n",
    "\n",
    "test_path = './data/LibriSpeech/dev-clean/1272/128104/1272-128104-0000.flac'\n",
    "\n",
    "def flac_to_log_mel(filepath, sample_rate=16000):  # LibriSpeech uses a 16kHz sample rate\n",
    "    # sample_rate = 16000  # because\n",
    "    window_length_ms = 25  # for ASR, the window length is typically 25ms, ranging from 15-40ms\n",
    "    window_step_ms = 10\n",
    "    audio_data, sample_rate = librosa.load(filepath, sr=sample_rate)\n",
    "    audio_duration_seconds = len(audio_data)/sample_rate\n",
    "    window_count = int(audio_duration_seconds*1000/window_length_ms)\n",
    "    window_length =int(sample_rate/1000 * window_length_ms)  # for more info on Windowing see https://www.audiolabs-erlangen.de/resources/MIR/FMP/C2/\n",
    "    N = 2048 # for FFT, the FT window length should be a power of 2\n",
    "    mel_spec = librosa.feature.melspectrogram(audio_data, sample_rate, n_fft=N, win_length=window_length, hop_length=window_length, window=\"hann\")\n",
    "    log_mel_spec = np.log(mel_spec)\n",
    "    return log_mel_spec\n",
    "\n",
    "def show_spec(signal, sample_rate):\n",
    "    fig, ax = plt.subplots()\n",
    "    S_dB = librosa.power_to_db(signal, ref=np.max)\n",
    "    img = librosa.display.specshow(S_dB, x_axis='time',\n",
    "\n",
    "                             y_axis='mel', sr=sample_rate,\n",
    "\n",
    "                             fmax=8000, ax=ax)\n",
    "\n",
    "    fig.colorbar(img, ax=ax, format='%+2.0f dB')\n",
    "\n",
    "    ax.set(title='Mel-frequency spectrogram')\n",
    "\n",
    "\n",
    "sample_rate = 16000\n",
    "log_mel_spec = flac_to_log_mel(test_path)\n",
    "show_spec(log_mel_spec, sample_rate)"
   ],
   "metadata": {
    "collapsed": false,
    "pycharm": {
     "name": "#%%\n"
    }
   }
  },
  {
   "cell_type": "code",
   "execution_count": 1,
   "outputs": [],
   "source": [
    "import python_speech_features as psf\n",
    "import numpy as np\n",
    "\n",
    "def signal_to_log_mel(signal,sample_rate,win_len,win_step,n_filt,low_freq,hi_freq,preemph,win_func):\n",
    "    n_fft = psf.calculate_nfft(sample_rate, win_len)\n",
    "    feat,energy = psf.fbank(signal,sample_rate,win_len,win_step,n_filt, n_fft, low_freq,hi_freq,preemph,win_func)\n",
    "    feat = np.log(feat)\n",
    "    print(feat)\n",
    "    # feat = psf.dct(feat, type=2, axis=1, norm='ortho')[:,:numcep]\n",
    "    # feat = psf.lifter(feat,ceplifter)\n",
    "    # if appendEnergy: feat[:,0] = numpy.log(energy) # replace first cepstral coefficient with log of frame energy\n",
    "\n",
    "def extract_features():\n",
    "    window_length_sec = 25/1000  # for ASR, the window length is typically 25ms, ranging from 15-40ms\n",
    "    window_step_sec = 10/1000\n",
    "    sample_rate = 16000\n",
    "\n",
    "    test_path = './data/LibriSpeech/dev-clean/1272/128104/1272-128104-0000.flac'\n",
    "    audio_data, sample_rate = librosa.load(test_path, sr=sample_rate)\n",
    "    signal_to_log_mel(audio_data, sample_rate, window_length_sec, window_step_sec, n_filt=26,low_freq=0, hi_freq=None, preemph=0.97,win_func=np.hamming)\n",
    "\n",
    "    # audio_duration_seconds = len(audio_data)/sample_rate\n",
    "    # window_count = int(audio_duration_seconds*1000/window_length_ms)\n"
   ],
   "metadata": {
    "collapsed": false,
    "pycharm": {
     "name": "#%%\n"
    }
   }
  },
  {
   "cell_type": "code",
   "execution_count": 83,
   "outputs": [
    {
     "name": "stdout",
     "output_type": "stream",
     "text": [
      "./data/LibriSpeech/dev-clean/1272/128104/*.flac\n",
      "0 0\n",
      "0 0\n",
      "0 0\n",
      "0 0\n",
      "0 0\n",
      "0 0\n",
      "0 0\n",
      "0 0\n",
      "0 0\n"
     ]
    },
    {
     "name": "stderr",
     "output_type": "stream",
     "text": [
      "/home/a/.local/lib/python3.8/site-packages/librosa/core/spectrum.py:222: UserWarning: n_fft=2048 is too small for input signal of length=400\n",
      "  warnings.warn(\n"
     ]
    },
    {
     "ename": "KeyboardInterrupt",
     "evalue": "",
     "output_type": "error",
     "traceback": [
      "\u001B[0;31m---------------------------------------------------------------------------\u001B[0m",
      "\u001B[0;31mKeyboardInterrupt\u001B[0m                         Traceback (most recent call last)",
      "\u001B[0;32m<ipython-input-83-7b135a28c913>\u001B[0m in \u001B[0;36m<module>\u001B[0;34m\u001B[0m\n\u001B[1;32m     34\u001B[0m     \u001B[0;32mreturn\u001B[0m \u001B[0mnp\u001B[0m\u001B[0;34m.\u001B[0m\u001B[0marray\u001B[0m\u001B[0;34m(\u001B[0m\u001B[0mfeatures\u001B[0m\u001B[0;34m)\u001B[0m\u001B[0;34m\u001B[0m\u001B[0;34m\u001B[0m\u001B[0m\n\u001B[1;32m     35\u001B[0m \u001B[0;34m\u001B[0m\u001B[0m\n\u001B[0;32m---> 36\u001B[0;31m \u001B[0mextract_features\u001B[0m\u001B[0;34m(\u001B[0m\u001B[0;34m'./data/LibriSpeech/dev-clean/1272/'\u001B[0m\u001B[0;34m,\u001B[0m \u001B[0;34m[\u001B[0m\u001B[0;34m\"128104\"\u001B[0m\u001B[0;34m,\u001B[0m  \u001B[0;34m\"135031\"\u001B[0m\u001B[0;34m,\u001B[0m  \u001B[0;34m\"141231\"\u001B[0m\u001B[0;34m]\u001B[0m\u001B[0;34m)\u001B[0m\u001B[0;34m\u001B[0m\u001B[0;34m\u001B[0m\u001B[0m\n\u001B[0m\u001B[1;32m     37\u001B[0m \u001B[0;34m\u001B[0m\u001B[0m\n\u001B[1;32m     38\u001B[0m \u001B[0;34m\u001B[0m\u001B[0m\n",
      "\u001B[0;32m<ipython-input-83-7b135a28c913>\u001B[0m in \u001B[0;36mextract_features\u001B[0;34m(parent_dir, sub_dirs, file_ext, bands, frames)\u001B[0m\n\u001B[1;32m     20\u001B[0m                 \u001B[0;32mif\u001B[0m\u001B[0;34m(\u001B[0m\u001B[0mlen\u001B[0m\u001B[0;34m(\u001B[0m\u001B[0msound_clip\u001B[0m\u001B[0;34m[\u001B[0m\u001B[0mstart\u001B[0m\u001B[0;34m:\u001B[0m\u001B[0mend\u001B[0m\u001B[0;34m]\u001B[0m\u001B[0;34m)\u001B[0m \u001B[0;34m==\u001B[0m \u001B[0mwindow_size\u001B[0m\u001B[0;34m)\u001B[0m\u001B[0;34m:\u001B[0m\u001B[0;34m\u001B[0m\u001B[0;34m\u001B[0m\u001B[0m\n\u001B[1;32m     21\u001B[0m                     \u001B[0msignal\u001B[0m \u001B[0;34m=\u001B[0m \u001B[0msound_clip\u001B[0m\u001B[0;34m[\u001B[0m\u001B[0mstart\u001B[0m\u001B[0;34m:\u001B[0m\u001B[0mend\u001B[0m\u001B[0;34m]\u001B[0m\u001B[0;34m\u001B[0m\u001B[0;34m\u001B[0m\u001B[0m\n\u001B[0;32m---> 22\u001B[0;31m                     \u001B[0mmelspec\u001B[0m \u001B[0;34m=\u001B[0m \u001B[0mlibrosa\u001B[0m\u001B[0;34m.\u001B[0m\u001B[0mfeature\u001B[0m\u001B[0;34m.\u001B[0m\u001B[0mmelspectrogram\u001B[0m\u001B[0;34m(\u001B[0m\u001B[0msignal\u001B[0m\u001B[0;34m)\u001B[0m\u001B[0;34m\u001B[0m\u001B[0;34m\u001B[0m\u001B[0m\n\u001B[0m\u001B[1;32m     23\u001B[0m                     \u001B[0mlogspec\u001B[0m \u001B[0;34m=\u001B[0m \u001B[0mlibrosa\u001B[0m\u001B[0;34m.\u001B[0m\u001B[0mamplitude_to_db\u001B[0m\u001B[0;34m(\u001B[0m\u001B[0mmelspec\u001B[0m\u001B[0;34m)\u001B[0m\u001B[0;34m\u001B[0m\u001B[0;34m\u001B[0m\u001B[0m\n\u001B[1;32m     24\u001B[0m                     \u001B[0mlogspec\u001B[0m \u001B[0;34m=\u001B[0m \u001B[0mlogspec\u001B[0m\u001B[0;34m.\u001B[0m\u001B[0mT\u001B[0m\u001B[0;34m.\u001B[0m\u001B[0mflatten\u001B[0m\u001B[0;34m(\u001B[0m\u001B[0;34m)\u001B[0m\u001B[0;34m[\u001B[0m\u001B[0;34m:\u001B[0m\u001B[0;34m,\u001B[0m\u001B[0mnp\u001B[0m\u001B[0;34m.\u001B[0m\u001B[0mnewaxis\u001B[0m\u001B[0;34m]\u001B[0m\u001B[0;34m.\u001B[0m\u001B[0mT\u001B[0m\u001B[0;34m\u001B[0m\u001B[0;34m\u001B[0m\u001B[0m\n",
      "\u001B[0;32m~/.local/lib/python3.8/site-packages/librosa/feature/spectral.py\u001B[0m in \u001B[0;36mmelspectrogram\u001B[0;34m(y, sr, S, n_fft, hop_length, win_length, window, center, pad_mode, power, **kwargs)\u001B[0m\n\u001B[1;32m   2009\u001B[0m     \u001B[0mmel_basis\u001B[0m \u001B[0;34m=\u001B[0m \u001B[0mfilters\u001B[0m\u001B[0;34m.\u001B[0m\u001B[0mmel\u001B[0m\u001B[0;34m(\u001B[0m\u001B[0msr\u001B[0m\u001B[0;34m,\u001B[0m \u001B[0mn_fft\u001B[0m\u001B[0;34m,\u001B[0m \u001B[0;34m**\u001B[0m\u001B[0mkwargs\u001B[0m\u001B[0;34m)\u001B[0m\u001B[0;34m\u001B[0m\u001B[0;34m\u001B[0m\u001B[0m\n\u001B[1;32m   2010\u001B[0m \u001B[0;34m\u001B[0m\u001B[0m\n\u001B[0;32m-> 2011\u001B[0;31m     \u001B[0;32mreturn\u001B[0m \u001B[0mnp\u001B[0m\u001B[0;34m.\u001B[0m\u001B[0mdot\u001B[0m\u001B[0;34m(\u001B[0m\u001B[0mmel_basis\u001B[0m\u001B[0;34m,\u001B[0m \u001B[0mS\u001B[0m\u001B[0;34m)\u001B[0m\u001B[0;34m\u001B[0m\u001B[0;34m\u001B[0m\u001B[0m\n\u001B[0m",
      "\u001B[0;32m<__array_function__ internals>\u001B[0m in \u001B[0;36mdot\u001B[0;34m(*args, **kwargs)\u001B[0m\n",
      "\u001B[0;31mKeyboardInterrupt\u001B[0m: "
     ]
    }
   ],
   "source": [
    "# import glob, os\n",
    "# def windows(data, window_size):\n",
    "#     start = 0\n",
    "#     while start < len(data):\n",
    "#         yield int(start), int(start + window_size)\n",
    "#         start += (window_size / 2)\n",
    "#\n",
    "# def extract_features(parent_dir, sub_dirs, file_ext=\"*.flac\",bands=128,frames=128):\n",
    "#     window_size = 400\n",
    "#     log_specgrams = []\n",
    "#     labels = []\n",
    "#     ITJ = 0\n",
    "#     for l,sub_dir in enumerate(sub_dirs):\n",
    "#         PTJ = 1\n",
    "#         for fn in glob.glob(os.path.join(parent_dir, sub_dir, file_ext)):\n",
    "#             sound_clip, s = librosa.load(fn)\n",
    "#             label = ITJ\n",
    "#             for (start, end) in windows(sound_clip, window_size):\n",
    "#                 if(len(sound_clip[start:end]) == window_size):\n",
    "#                     signal = sound_clip[start:end]\n",
    "#                     melspec = librosa.feature.melspectrogram(signal)\n",
    "#                     logspec = librosa.amplitude_to_db(melspec)\n",
    "#                     logspec = logspec.T.flatten()[:,np.newaxis].T\n",
    "#                     log_specgrams.append(logspec)\n",
    "#                     labels.append(label)\n",
    "#             print(PTJ*ITJ*270, ITJ)\n",
    "#             PTJ = PTJ+1\n",
    "#         ITJ = ITJ+1\n",
    "#     log_specgrams = np.array(log_specgrams)\n",
    "#     print(log_specgrams.shape)\n",
    "#     log_specgrams = np.asarray(log_specgrams).reshape(len(log_specgrams),bands,frames)\n",
    "#     features = log_specgrams\n",
    "#     return np.array(features)\n",
    "#\n",
    "# extract_features('./data/LibriSpeech/dev-clean/1272/', [\"128104\",  \"135031\",  \"141231\"])\n"
   ],
   "metadata": {
    "collapsed": false,
    "pycharm": {
     "name": "#%%\n"
    }
   }
  },
  {
   "cell_type": "markdown",
   "source": [
    "Next we must obtain the frequency data across the time domain using a Fourier Transform. This is called a Spectrogram. However, human hearing is logarithmic; we are less sensitive to changes in high amplitude than we are to changes in low amplitude. To solve this we can map the Spectrogram to the Mel Scale, and then take the log of the result.\n",
    "\n",
    "code:\n",
    "- librosa.features.melspectrogram func\n",
    "- librosa.logamplitude\n",
    "- flatten\n",
    "-\n",
    "\n",
    "https://www.kdnuggets.com/2017/12/audio-classifier-deep-neural-networks.html\n",
    "\n",
    "Next: build encoder-decoder architecture, based on https://github.com/tensorflow/nmt\n",
    "\n",
    "Next: plug into RNN, run it on Google Colab. Save it\n",
    "\n",
    "Next: let user input voice data, and run it through the model\n",
    "\n",
    "More soucres\n",
    "https://towardsdatascience.com/recognizing-speech-commands-using-recurrent-neural-networks-with-attention-c2b2ba17c837\n",
    "https://lilianweng.github.io/lil-log/2018/06/24/attention-attention.html\n",
    "https://jalammar.github.io/visualizing-neural-machine-translation-mechanics-of-seq2seq-models-with-attention/\n",
    "https://arxiv.org/pdf/1409.0473.pdf"
   ],
   "metadata": {
    "collapsed": false,
    "pycharm": {
     "name": "#%% md\n"
    }
   }
  },
  {
   "cell_type": "markdown",
   "source": [
    "\n",
    "Further Optimizations:\n",
    "\n",
    "The Context Vector being fixed-length turns out to be a performance bottleneck; given a long input sentences, the the Encoder may not be able to store all of its output in the Context Vector in one timestep.\n",
    "\n",
    "To solve the bottleneck, we could use the 'attention' mechanism which involves the Decoder selecting from all hidden states provided by the Encoder. For the sake of simplicity we won't be doing this optimization.\n"
   ],
   "metadata": {
    "collapsed": false,
    "pycharm": {
     "name": "#%% md\n"
    }
   }
  }
 ],
 "metadata": {
  "kernelspec": {
   "name": "pycharm-5af6fa8",
   "language": "python",
   "display_name": "PyCharm (001_game_of_life)"
  },
  "language_info": {
   "codemirror_mode": {
    "name": "ipython",
    "version": 2
   },
   "file_extension": ".py",
   "mimetype": "text/x-python",
   "name": "python",
   "nbconvert_exporter": "python",
   "pygments_lexer": "ipython2",
   "version": "2.7.6"
  }
 },
 "nbformat": 4,
 "nbformat_minor": 0
}